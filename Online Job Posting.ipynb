{
 "cells": [
  {
   "cell_type": "markdown",
   "metadata": {},
   "source": [
    "## Online Job Posting -Text Mining"
   ]
  },
  {
   "cell_type": "code",
   "execution_count": 41,
   "metadata": {},
   "outputs": [
    {
     "data": {
      "text/plain": [
       "'D:\\\\Case Studies & Final Projects\\\\6. Analyzing online Job Postings'"
      ]
     },
     "execution_count": 41,
     "metadata": {},
     "output_type": "execute_result"
    }
   ],
   "source": [
    "import os\n",
    "os.getcwd()"
   ]
  },
  {
   "cell_type": "code",
   "execution_count": 42,
   "metadata": {},
   "outputs": [],
   "source": [
    "import numpy as np # linear algebra\n",
    "import pandas as pd # data processing, CSV file I/O (e.g. pd.read_csv)\n",
    "from sklearn.model_selection import train_test_split # function for splitting data to train and test sets\n",
    "\n",
    "import nltk\n",
    "from nltk.corpus import stopwords\n",
    "from nltk.classify import SklearnClassifier\n",
    "\n",
    "\n",
    "import matplotlib.pyplot as plt\n",
    "%matplotlib inline\n",
    "\n",
    "# Input data files are available in the \"../input/\" directory.\n",
    "# For example, running this (by clicking run or pressing Shift+Enter) will list the files in the input directory\n",
    "\n",
    "from subprocess import check_output"
   ]
  },
  {
   "cell_type": "code",
   "execution_count": 43,
   "metadata": {},
   "outputs": [],
   "source": [
    "data = pd.read_csv('data_job_posts.csv')"
   ]
  },
  {
   "cell_type": "code",
   "execution_count": 44,
   "metadata": {},
   "outputs": [
    {
     "data": {
      "text/html": [
       "<div>\n",
       "<style scoped>\n",
       "    .dataframe tbody tr th:only-of-type {\n",
       "        vertical-align: middle;\n",
       "    }\n",
       "\n",
       "    .dataframe tbody tr th {\n",
       "        vertical-align: top;\n",
       "    }\n",
       "\n",
       "    .dataframe thead th {\n",
       "        text-align: right;\n",
       "    }\n",
       "</style>\n",
       "<table border=\"1\" class=\"dataframe\">\n",
       "  <thead>\n",
       "    <tr style=\"text-align: right;\">\n",
       "      <th></th>\n",
       "      <th>jobpost</th>\n",
       "      <th>date</th>\n",
       "      <th>Title</th>\n",
       "      <th>Company</th>\n",
       "      <th>AnnouncementCode</th>\n",
       "      <th>Term</th>\n",
       "      <th>Eligibility</th>\n",
       "      <th>Audience</th>\n",
       "      <th>StartDate</th>\n",
       "      <th>Duration</th>\n",
       "      <th>...</th>\n",
       "      <th>Salary</th>\n",
       "      <th>ApplicationP</th>\n",
       "      <th>OpeningDate</th>\n",
       "      <th>Deadline</th>\n",
       "      <th>Notes</th>\n",
       "      <th>AboutC</th>\n",
       "      <th>Attach</th>\n",
       "      <th>Year</th>\n",
       "      <th>Month</th>\n",
       "      <th>IT</th>\n",
       "    </tr>\n",
       "  </thead>\n",
       "  <tbody>\n",
       "    <tr>\n",
       "      <th>0</th>\n",
       "      <td>AMERIA Investment Consulting Company\\nJOB TITL...</td>\n",
       "      <td>Jan 5, 2004</td>\n",
       "      <td>Chief Financial Officer</td>\n",
       "      <td>AMERIA Investment Consulting Company</td>\n",
       "      <td>NaN</td>\n",
       "      <td>NaN</td>\n",
       "      <td>NaN</td>\n",
       "      <td>NaN</td>\n",
       "      <td>NaN</td>\n",
       "      <td>NaN</td>\n",
       "      <td>...</td>\n",
       "      <td>NaN</td>\n",
       "      <td>To apply for this position, please submit a\\nc...</td>\n",
       "      <td>NaN</td>\n",
       "      <td>26 January 2004</td>\n",
       "      <td>NaN</td>\n",
       "      <td>NaN</td>\n",
       "      <td>NaN</td>\n",
       "      <td>2004</td>\n",
       "      <td>1</td>\n",
       "      <td>False</td>\n",
       "    </tr>\n",
       "    <tr>\n",
       "      <th>1</th>\n",
       "      <td>International Research &amp; Exchanges Board (IREX...</td>\n",
       "      <td>Jan 7, 2004</td>\n",
       "      <td>Full-time Community Connections Intern (paid i...</td>\n",
       "      <td>International Research &amp; Exchanges Board (IREX)</td>\n",
       "      <td>NaN</td>\n",
       "      <td>NaN</td>\n",
       "      <td>NaN</td>\n",
       "      <td>NaN</td>\n",
       "      <td>NaN</td>\n",
       "      <td>3 months</td>\n",
       "      <td>...</td>\n",
       "      <td>NaN</td>\n",
       "      <td>Please submit a cover letter and resume to:\\nI...</td>\n",
       "      <td>NaN</td>\n",
       "      <td>12 January 2004</td>\n",
       "      <td>NaN</td>\n",
       "      <td>The International Research &amp; Exchanges Board (...</td>\n",
       "      <td>NaN</td>\n",
       "      <td>2004</td>\n",
       "      <td>1</td>\n",
       "      <td>False</td>\n",
       "    </tr>\n",
       "    <tr>\n",
       "      <th>2</th>\n",
       "      <td>Caucasus Environmental NGO Network (CENN)\\nJOB...</td>\n",
       "      <td>Jan 7, 2004</td>\n",
       "      <td>Country Coordinator</td>\n",
       "      <td>Caucasus Environmental NGO Network (CENN)</td>\n",
       "      <td>NaN</td>\n",
       "      <td>NaN</td>\n",
       "      <td>NaN</td>\n",
       "      <td>NaN</td>\n",
       "      <td>NaN</td>\n",
       "      <td>Renewable annual contract\\nPOSITION</td>\n",
       "      <td>...</td>\n",
       "      <td>NaN</td>\n",
       "      <td>Please send resume or CV toursula.kazarian@......</td>\n",
       "      <td>NaN</td>\n",
       "      <td>20 January 2004\\nSTART DATE:  February 2004</td>\n",
       "      <td>NaN</td>\n",
       "      <td>The Caucasus Environmental NGO Network is a\\nn...</td>\n",
       "      <td>NaN</td>\n",
       "      <td>2004</td>\n",
       "      <td>1</td>\n",
       "      <td>False</td>\n",
       "    </tr>\n",
       "    <tr>\n",
       "      <th>3</th>\n",
       "      <td>Manoff Group\\nJOB TITLE:  BCC Specialist\\nPOSI...</td>\n",
       "      <td>Jan 7, 2004</td>\n",
       "      <td>BCC Specialist</td>\n",
       "      <td>Manoff Group</td>\n",
       "      <td>NaN</td>\n",
       "      <td>NaN</td>\n",
       "      <td>NaN</td>\n",
       "      <td>NaN</td>\n",
       "      <td>NaN</td>\n",
       "      <td>NaN</td>\n",
       "      <td>...</td>\n",
       "      <td>NaN</td>\n",
       "      <td>Please send cover letter and resume to Amy\\nPe...</td>\n",
       "      <td>NaN</td>\n",
       "      <td>23 January 2004\\nSTART DATE:  Immediate</td>\n",
       "      <td>NaN</td>\n",
       "      <td>NaN</td>\n",
       "      <td>NaN</td>\n",
       "      <td>2004</td>\n",
       "      <td>1</td>\n",
       "      <td>False</td>\n",
       "    </tr>\n",
       "    <tr>\n",
       "      <th>4</th>\n",
       "      <td>Yerevan Brandy Company\\nJOB TITLE:  Software D...</td>\n",
       "      <td>Jan 10, 2004</td>\n",
       "      <td>Software Developer</td>\n",
       "      <td>Yerevan Brandy Company</td>\n",
       "      <td>NaN</td>\n",
       "      <td>NaN</td>\n",
       "      <td>NaN</td>\n",
       "      <td>NaN</td>\n",
       "      <td>NaN</td>\n",
       "      <td>NaN</td>\n",
       "      <td>...</td>\n",
       "      <td>NaN</td>\n",
       "      <td>Successful candidates should submit\\n- CV; \\n-...</td>\n",
       "      <td>NaN</td>\n",
       "      <td>20 January 2004, 18:00</td>\n",
       "      <td>NaN</td>\n",
       "      <td>NaN</td>\n",
       "      <td>NaN</td>\n",
       "      <td>2004</td>\n",
       "      <td>1</td>\n",
       "      <td>True</td>\n",
       "    </tr>\n",
       "  </tbody>\n",
       "</table>\n",
       "<p>5 rows × 24 columns</p>\n",
       "</div>"
      ],
      "text/plain": [
       "                                             jobpost          date  \\\n",
       "0  AMERIA Investment Consulting Company\\nJOB TITL...   Jan 5, 2004   \n",
       "1  International Research & Exchanges Board (IREX...   Jan 7, 2004   \n",
       "2  Caucasus Environmental NGO Network (CENN)\\nJOB...   Jan 7, 2004   \n",
       "3  Manoff Group\\nJOB TITLE:  BCC Specialist\\nPOSI...   Jan 7, 2004   \n",
       "4  Yerevan Brandy Company\\nJOB TITLE:  Software D...  Jan 10, 2004   \n",
       "\n",
       "                                               Title  \\\n",
       "0                            Chief Financial Officer   \n",
       "1  Full-time Community Connections Intern (paid i...   \n",
       "2                                Country Coordinator   \n",
       "3                                     BCC Specialist   \n",
       "4                                 Software Developer   \n",
       "\n",
       "                                           Company AnnouncementCode Term  \\\n",
       "0             AMERIA Investment Consulting Company              NaN  NaN   \n",
       "1  International Research & Exchanges Board (IREX)              NaN  NaN   \n",
       "2        Caucasus Environmental NGO Network (CENN)              NaN  NaN   \n",
       "3                                     Manoff Group              NaN  NaN   \n",
       "4                           Yerevan Brandy Company              NaN  NaN   \n",
       "\n",
       "  Eligibility Audience StartDate                             Duration  ...  \\\n",
       "0         NaN      NaN       NaN                                  NaN  ...   \n",
       "1         NaN      NaN       NaN                             3 months  ...   \n",
       "2         NaN      NaN       NaN  Renewable annual contract\\nPOSITION  ...   \n",
       "3         NaN      NaN       NaN                                  NaN  ...   \n",
       "4         NaN      NaN       NaN                                  NaN  ...   \n",
       "\n",
       "  Salary                                       ApplicationP OpeningDate  \\\n",
       "0    NaN  To apply for this position, please submit a\\nc...         NaN   \n",
       "1    NaN  Please submit a cover letter and resume to:\\nI...         NaN   \n",
       "2    NaN  Please send resume or CV toursula.kazarian@......         NaN   \n",
       "3    NaN  Please send cover letter and resume to Amy\\nPe...         NaN   \n",
       "4    NaN  Successful candidates should submit\\n- CV; \\n-...         NaN   \n",
       "\n",
       "                                      Deadline Notes  \\\n",
       "0                              26 January 2004   NaN   \n",
       "1                              12 January 2004   NaN   \n",
       "2  20 January 2004\\nSTART DATE:  February 2004   NaN   \n",
       "3      23 January 2004\\nSTART DATE:  Immediate   NaN   \n",
       "4                       20 January 2004, 18:00   NaN   \n",
       "\n",
       "                                              AboutC Attach  Year Month     IT  \n",
       "0                                                NaN    NaN  2004     1  False  \n",
       "1  The International Research & Exchanges Board (...    NaN  2004     1  False  \n",
       "2  The Caucasus Environmental NGO Network is a\\nn...    NaN  2004     1  False  \n",
       "3                                                NaN    NaN  2004     1  False  \n",
       "4                                                NaN    NaN  2004     1   True  \n",
       "\n",
       "[5 rows x 24 columns]"
      ]
     },
     "execution_count": 44,
     "metadata": {},
     "output_type": "execute_result"
    }
   ],
   "source": [
    "data.head()"
   ]
  },
  {
   "cell_type": "code",
   "execution_count": 45,
   "metadata": {},
   "outputs": [
    {
     "name": "stdout",
     "output_type": "stream",
     "text": [
      "<class 'pandas.core.frame.DataFrame'>\n",
      "RangeIndex: 19001 entries, 0 to 19000\n",
      "Data columns (total 24 columns):\n",
      "jobpost             19001 non-null object\n",
      "date                19001 non-null object\n",
      "Title               18973 non-null object\n",
      "Company             18994 non-null object\n",
      "AnnouncementCode    1208 non-null object\n",
      "Term                7676 non-null object\n",
      "Eligibility         4930 non-null object\n",
      "Audience            640 non-null object\n",
      "StartDate           9675 non-null object\n",
      "Duration            10798 non-null object\n",
      "Location            18969 non-null object\n",
      "JobDescription      15109 non-null object\n",
      "JobRequirment       16479 non-null object\n",
      "RequiredQual        18517 non-null object\n",
      "Salary              9622 non-null object\n",
      "ApplicationP        18941 non-null object\n",
      "OpeningDate         18295 non-null object\n",
      "Deadline            18936 non-null object\n",
      "Notes               2211 non-null object\n",
      "AboutC              12470 non-null object\n",
      "Attach              1559 non-null object\n",
      "Year                19001 non-null int64\n",
      "Month               19001 non-null int64\n",
      "IT                  19001 non-null bool\n",
      "dtypes: bool(1), int64(2), object(21)\n",
      "memory usage: 3.4+ MB\n"
     ]
    }
   ],
   "source": [
    "# Get the basic info of DataFrame and perform programmatic assessment \n",
    "data.info()"
   ]
  },
  {
   "cell_type": "code",
   "execution_count": 46,
   "metadata": {},
   "outputs": [
    {
     "data": {
      "text/plain": [
       "- Participate in application design;\\n- Provide necessary technical and design documentation;\\n- Communicate effectively with local management and external team\\nmembers;\\n- Develop features according to technical specifications.                                                                                                                                                                                                                                                                                                                                                                                                                                                                                                                                                                                                                                                                                                                                                                                                                                                                                                                                                                                                                                                                                                                                                                                                                                                                                                                                                                                                                                                                                                                                                                                                                                                                                                                                                                                                                                                                                                                                                                                                                                                                                                                                                                                                                                                                                                                                                                                                                                                                                                                                                                                                                                                                                                                                                                                                                                                                                                                                                                                                                                                                                                                             51\n",
       "- Answer telephone calls and inquiries, forward calls to relevant staff\\nor take messages during their absence;\\n- Provide interested parties/ visitors with relevant information if\\nappropriate;\\n- Greet visitors and guide them to appropriate staff;\\n- Make oral and written translations from/ into Armenian-English-Russian\\nlanguages;\\n- Make scanning, photocopying, printing, as well as internet searches and\\nanswer e-mail inquiries;\\n- Do word processing and data entry works;\\n- Perform other relevant administrative duties as needed.                                                                                                                                                                                                                                                                                                                                                                                                                                                                                                                                                                                                                                                                                                                                                                                                                                                                                                                                                                                                                                                                                                                                                                                                                                                                                                                                                                                                                                                                                                                                                                                                                                                                                                                                                                                                                                                                                                                                                                                                                                                                                                                                                                                                                                                                                                                                                                                                                                                                                                                                                                                                                                                                                                                                                                                                       50\n",
       "Research, design and implement efficient\\nalgorithmic applications for physical verification of complex ICs.                                                                                                                                                                                                                                                                                                                                                                                                                                                                                                                                                                                                                                                                                                                                                                                                                                                                                                                                                                                                                                                                                                                                                                                                                                                                                                                                                                                                                                                                                                                                                                                                                                                                                                                                                                                                                                                                                                                                                                                                                                                                                                                                                                                                                                                                                                                                                                                                                                                                                                                                                                                                                                                                                                                                                                                                                                                                                                                                                                                                                                                                                                                                                                                                                                                      29\n",
       "- Implement preparation of work with clients;\\n- Asses the business of clients and implement monitoring;\\n- Accomplish disbursement and collection procedures of credits;\\n- Manage credit documents and operations;\\n- Assist in administrative and operative management of the office;\\n- Assist in accomplishment of the mission and strategy development of the\\norganization;\\n- Prepare required reports;\\n- Fulfill the requirements of the Organization policy, regulations and\\nother internal legal acts.                                                                                                                                                                                                                                                                                                                                                                                                                                                                                                                                                                                                                                                                                                                                                                                                                                                                                                                                                                                                                                                                                                                                                                                                                                                                                                                                                                                                                                                                                                                                                                                                                                                                                                                                                                                                                                                                                                                                                                                                                                                                                                                                                                                                                                                                                                                                                                                                                                                                                                                                                                                                                                                                                                                                                                                                                                               24\n",
       "- Pay regular visits to doctors and pharmacists;\\n- Plan and execute other marketing activities.                                                                                                                                                                                                                                                                                                                                                                                                                                                                                                                                                                                                                                                                                                                                                                                                                                                                                                                                                                                                                                                                                                                                                                                                                                                                                                                                                                                                                                                                                                                                                                                                                                                                                                                                                                                                                                                                                                                                                                                                                                                                                                                                                                                                                                                                                                                                                                                                                                                                                                                                                                                                                                                                                                                                                                                                                                                                                                                                                                                                                                                                                                                                                                                                                                                                  23\n",
       "- Develop software according to requirements;\\n- Take part in gathering requirements;\\n- Take part in system architecture development;\\n- Participate in planning;\\n- Complete work according to deadlines;\\n- Take part in mentoring other developers professional skills.                                                                                                                                                                                                                                                                                                                                                                                                                                                                                                                                                                                                                                                                                                                                                                                                                                                                                                                                                                                                                                                                                                                                                                                                                                                                                                                                                                                                                                                                                                                                                                                                                                                                                                                                                                                                                                                                                                                                                                                                                                                                                                                                                                                                                                                                                                                                                                                                                                                                                                                                                                                                                                                                                                                                                                                                                                                                                                                                                                                                                                                                                       23\n",
       "Duties include, but are not limited to the following:\\n- Maintain labor contracts and various registers and journals in the\\ncompany's accounting system;\\n- Calculate staff salaries, taxes and payments payable to the state\\nbudget;\\n- Prepare payment orders, make payments and get receipts at the bank;\\n- Prepare monthly, quarterly and annual financial reports well in\\nadvance, and submit for review to the partner accounting company;\\n- Submit all tax and other financial reports after those have been\\nreviewed by the accounting company to the relevant state authorities;\\n- Submit requests for opening individual accounts and individual reports\\nat the Social Security Fund of the Republic of Armenia,\\n- Ensure accuracy of all accounting documentation;\\n- Perform other accounting related and administrative duties as assigned\\nby the supervisor.                                                                                                                                                                                                                                                                                                                                                                                                                                                                                                                                                                                                                                                                                                                                                                                                                                                                                                                                                                                                                                                                                                                                                                                                                                                                                                                                                                                                                                                                                                                                                                                                                                                                                                                                                                                                                                                                                                                                                                                                                                                                                                                                                                                                                                                                                                                                                                                                                                                                              20\n",
       "- Gather and produce requirements and designs;\\n- Write and test code for the required product;\\n- Accurately plan software development activities and follow established\\nprocesses;\\n- Share knowledge, mentor peers, listen and hear team members view\\npoints and provide a fair evaluation of differing opinions;\\n- Work productively as part of a software development team;\\n- Communicate effectively with management and with team members;\\n- Keep commitments;\\n- Have a command of current technology;\\n- Actively participate in discussions regarding technical issues.                                                                                                                                                                                                                                                                                                                                                                                                                                                                                                                                                                                                                                                                                                                                                                                                                                                                                                                                                                                                                                                                                                                                                                                                                                                                                                                                                                                                                                                                                                                                                                                                                                                                                                                                                                                                                                                                                                                                                                                                                                                                                                                                                                                                                                                                                                                                                                                                                                                                                                                                                                                                                                                                                                                                                                            19\n",
       "Duties include, but are not limited to the\\nfollowing:\\n- Maintain labor contracts and various registers and journals in the\\ncompany's accounting system;\\n- Calculate staff salaries, taxes and payments payable to the state\\nbudget;\\n- Prepare payment orders, make payments and get receipts at the bank;\\n- Prepare monthly, quarterly and annual financial reports well in\\nadvance, and submit for review to the partner accounting company;\\n- Submit all tax and other financial reports after those have been\\nreviewed by the accounting company to the relevant state authorities;\\n- Submit requests for opening individual accounts and individual reports\\nat the Social Security Fund of the Republic of Armenia,\\n- Ensure accuracy of all accounting documentation;\\n- Perform other accounting related and administrative duties as assigned\\nby the supervisor.                                                                                                                                                                                                                                                                                                                                                                                                                                                                                                                                                                                                                                                                                                                                                                                                                                                                                                                                                                                                                                                                                                                                                                                                                                                                                                                                                                                                                                                                                                                                                                                                                                                                                                                                                                                                                                                                                                                                                                                                                                                                                                                                                                                                                                                                                                                                                                                                                                                                             17\n",
       "- Develop software according to requirements;\\n- Participate in tasks estimation;\\n- Complete work according to deadlines;\\n- Take part in mentoring other developers professional skills.                                                                                                                                                                                                                                                                                                                                                                                                                                                                                                                                                                                                                                                                                                                                                                                                                                                                                                                                                                                                                                                                                                                                                                                                                                                                                                                                                                                                                                                                                                                                                                                                                                                                                                                                                                                                                                                                                                                                                                                                                                                                                                                                                                                                                                                                                                                                                                                                                                                                                                                                                                                                                                                                                                                                                                                                                                                                                                                                                                                                                                                                                                                                                                        17\n",
       "- Participate in software product development;\\n- Provide maintenance and support of existing software products.                                                                                                                                                                                                                                                                                                                                                                                                                                                                                                                                                                                                                                                                                                                                                                                                                                                                                                                                                                                                                                                                                                                                                                                                                                                                                                                                                                                                                                                                                                                                                                                                                                                                                                                                                                                                                                                                                                                                                                                                                                                                                                                                                                                                                                                                                                                                                                                                                                                                                                                                                                                                                                                                                                                                                                                                                                                                                                                                                                                                                                                                                                                                                                                                                                                  16\n",
       "- Participate in all the steps of the software project, from design to\\nintegration;\\n- Analyze and investigate architectural defects of existing projects;\\n- Implement features;\\n- Fix problems.                                                                                                                                                                                                                                                                                                                                                                                                                                                                                                                                                                                                                                                                                                                                                                                                                                                                                                                                                                                                                                                                                                                                                                                                                                                                                                                                                                                                                                                                                                                                                                                                                                                                                                                                                                                                                                                                                                                                                                                                                                                                                                                                                                                                                                                                                                                                                                                                                                                                                                                                                                                                                                                                                                                                                                                                                                                                                                                                                                                                                                                                                                                                                               15\n",
       "- Develop software according to project plans;\\n- Complete work according to deadlines.                                                                                                                                                                                                                                                                                                                                                                                                                                                                                                                                                                                                                                                                                                                                                                                                                                                                                                                                                                                                                                                                                                                                                                                                                                                                                                                                                                                                                                                                                                                                                                                                                                                                                                                                                                                                                                                                                                                                                                                                                                                                                                                                                                                                                                                                                                                                                                                                                                                                                                                                                                                                                                                                                                                                                                                                                                                                                                                                                                                                                                                                                                                                                                                                                                                                           14\n",
       "- Visit medical institutions/ entities to meet with doctors and\\npharmacists;\\n- Represent company production;\\n- Organize presentations.                                                                                                                                                                                                                                                                                                                                                                                                                                                                                                                                                                                                                                                                                                                                                                                                                                                                                                                                                                                                                                                                                                                                                                                                                                                                                                                                                                                                                                                                                                                                                                                                                                                                                                                                                                                                                                                                                                                                                                                                                                                                                                                                                                                                                                                                                                                                                                                                                                                                                                                                                                                                                                                                                                                                                                                                                                                                                                                                                                                                                                                                                                                                                                                                                         14\n",
       "- Regularly visit sales points of products;\\n- Conduct marketing, merchandising and pre-selling;\\n- Represent products to the customers.                                                                                                                                                                                                                                                                                                                                                                                                                                                                                                                                                                                                                                                                                                                                                                                                                                                                                                                                                                                                                                                                                                                                                                                                                                                                                                                                                                                                                                                                                                                                                                                                                                                                                                                                                                                                                                                                                                                                                                                                                                                                                                                                                                                                                                                                                                                                                                                                                                                                                                                                                                                                                                                                                                                                                                                                                                                                                                                                                                                                                                                                                                                                                                                                                          14\n",
       "- Work with team to define and design system solutions;\\n- Create/ maintain requirements, design and User's manual\\nspecifications;\\n- Produce clearly written and documented code;\\n- Develop flexible software intended to run on different hardware\\nplatforms;\\n- Integrate third party (commercial) solutions to company's products;\\n- Communicate with team members on project progress, technical issues,\\netc.                                                                                                                                                                                                                                                                                                                                                                                                                                                                                                                                                                                                                                                                                                                                                                                                                                                                                                                                                                                                                                                                                                                                                                                                                                                                                                                                                                                                                                                                                                                                                                                                                                                                                                                                                                                                                                                                                                                                                                                                                                                                                                                                                                                                                                                                                                                                                                                                                                                                                                                                                                                                                                                                                                                                                                                                                                                                                                                                           13\n",
       "- Cooperate with design and test engineers throughout the product\\ndevelopment cycle;\\n- Work with embedded hardware and system engineers to define and design\\nsystem solutions;\\n- Customize boot-loader and Linux operating system for embedded\\nplatforms;\\n- Review hardware schematics and establish methods to support the\\nhardware design with low-level software components;\\n- Work with senior staff to resolve design problems;\\n- Contribute to technical documentation;\\n- Integrate software and hardware components to meet requirements and\\ndesign specifications.                                                                                                                                                                                                                                                                                                                                                                                                                                                                                                                                                                                                                                                                                                                                                                                                                                                                                                                                                                                                                                                                                                                                                                                                                                                                                                                                                                                                                                                                                                                                                                                                                                                                                                                                                                                                                                                                                                                                                                                                                                                                                                                                                                                                                                                                                                                                                                                                                                                                                                                                                                                                                                                                                                                                                                             12\n",
       "- Develop enterprise-level software solutions according to technical\\nspecifications;\\n- Participate in all cycles of software design and development;\\n- Contribute to the quality of coding and assure conformance of source\\ncodes;\\n- Provide necessary technical and design documentation;\\n- Analyze requirements and work with team members to create quality\\nresults;\\n- Communicate effectively with local management and external team\\nmembers;\\n- Participate in internal and external meetings.                                                                                                                                                                                                                                                                                                                                                                                                                                                                                                                                                                                                                                                                                                                                                                                                                                                                                                                                                                                                                                                                                                                                                                                                                                                                                                                                                                                                                                                                                                                                                                                                                                                                                                                                                                                                                                                                                                                                                                                                                                                                                                                                                                                                                                                                                                                                                                                                                                                                                                                                                                                                                                                                                                                                                                                                                                                     12\n",
       "- Write test plans and test cases throughout the development lifecycle;\\n- Ensure test plans thoroughly cover all requirements and use cases;\\n- Plan, schedule and perform manual and automated software tests;\\n- Develop automated regression test suites using automated testing\\ntools;\\n- Foster a continuous improvement approach to QA activities;\\n- Review tools implementations and encourage best practices and sound\\ndesign principles while remaining practical and deadline driven;\\n- Work closely with software developers to perform early testing on\\ncomponents prior to integration builds;\\n- Manage defect tracking; monitor and report results;\\n- Report QA status, as appropriate, to keep project stakeholders informed\\non deliverables and timelines.                                                                                                                                                                                                                                                                                                                                                                                                                                                                                                                                                                                                                                                                                                                                                                                                                                                                                                                                                                                                                                                                                                                                                                                                                                                                                                                                                                                                                                                                                                                                                                                                                                                                                                                                                                                                                                                                                                                                                                                                                                                                                                                                                                                                                                                                                                                                                                                                                                                                                                                                                                               11\n",
       "- Develop Web Applications in accordance with given Specifications;\\n- Assure full conformance of source codes to provided Coding Standards;\\n- Read, understand and modify the existing code;\\n- Work as part of a software development team;\\n- Communicate with management and team members effectively.                                                                                                                                                                                                                                                                                                                                                                                                                                                                                                                                                                                                                                                                                                                                                                                                                                                                                                                                                                                                                                                                                                                                                                                                                                                                                                                                                                                                                                                                                                                                                                                                                                                                                                                                                                                                                                                                                                                                                                                                                                                                                                                                                                                                                                                                                                                                                                                                                                                                                                                                                                                                                                                                                                                                                                                                                                                                                                                                                                                                                                                       11\n",
       "- Write and test code according to technical documentation;\\n- Support, maintain and document software functionality;\\n- Stay organized to achieve mission and purpose, goals and objectives;\\n- Demonstrate teamwork with local and remote team members with behavior\\nand willingness to work for common goals;\\n- Work hard towards self-development.                                                                                                                                                                                                                                                                                                                                                                                                                                                                                                                                                                                                                                                                                                                                                                                                                                                                                                                                                                                                                                                                                                                                                                                                                                                                                                                                                                                                                                                                                                                                                                                                                                                                                                                                                                                                                                                                                                                                                                                                                                                                                                                                                                                                                                                                                                                                                                                                                                                                                                                                                                                                                                                                                                                                                                                                                                                                                                                                                                                                          10\n",
       "- Develop and conduct language pre-orientation tests;\\n- Conduct language classes.                                                                                                                                                                                                                                                                                                                                                                                                                                                                                                                                                                                                                                                                                                                                                                                                                                                                                                                                                                                                                                                                                                                                                                                                                                                                                                                                                                                                                                                                                                                                                                                                                                                                                                                                                                                                                                                                                                                                                                                                                                                                                                                                                                                                                                                                                                                                                                                                                                                                                                                                                                                                                                                                                                                                                                                                                                                                                                                                                                                                                                                                                                                                                                                                                                                                                10\n",
       "- Design and code automated testing scripts;\\n- Create test plans from requirements and design documents;\\n- Record test results;\\n- Identify, reproduce and report defects;\\n- Maintain test plans;\\n- Test defect fixes.                                                                                                                                                                                                                                                                                                                                                                                                                                                                                                                                                                                                                                                                                                                                                                                                                                                                                                                                                                                                                                                                                                                                                                                                                                                                                                                                                                                                                                                                                                                                                                                                                                                                                                                                                                                                                                                                                                                                                                                                                                                                                                                                                                                                                                                                                                                                                                                                                                                                                                                                                                                                                                                                                                                                                                                                                                                                                                                                                                                                                                                                                                                                         9\n",
       "- Participate in all the steps of the software project, from design to\\nintegration;\\n- Analyze and investigate architectural defects of existing projects;\\n- Impelement features;\\n- Fix problems.                                                                                                                                                                                                                                                                                                                                                                                                                                                                                                                                                                                                                                                                                                                                                                                                                                                                                                                                                                                                                                                                                                                                                                                                                                                                                                                                                                                                                                                                                                                                                                                                                                                                                                                                                                                                                                                                                                                                                                                                                                                                                                                                                                                                                                                                                                                                                                                                                                                                                                                                                                                                                                                                                                                                                                                                                                                                                                                                                                                                                                                                                                                                                               9\n",
       "- Prepare work plans and schedules for the operation of the Disability\\nResource Center;\\n- Organize and supervise activities for people with disabilities at the\\nDisability Resource Center;\\n- Select beneficiaries from the attendees to take part in self-help group\\ntraining;\\n- Provide skills training in advocacy and self-help to the\\nbeneficiaries;\\n- Create self-help groups among the graduates and help them to initiate\\nadvocacy activities; \\n- Counsel beneficiaries of the Disability Resource Center on ways to\\nenforce their legally-mandated rights and privileges related to\\nemployability, post-placement support and access to health and social\\nbenefits;\\n- Prepare Status Reports for the activities performed at the Disability\\nResource Center under Component 3 of the Project;\\n- Exercise other powers as requested by the Project Coordinator.                                                                                                                                                                                                                                                                                                                                                                                                                                                                                                                                                                                                                                                                                                                                                                                                                                                                                                                                                                                                                                                                                                                                                                                                                                                                                                                                                                                                                                                                                                                                                                                                                                                                                                                                                                                                                                                                                                                                                                                                                                                                                                                                                                                                                                                                                                                                                                                                                                                                            9\n",
       "- Participate in application design; \\n- Provide necessary technical and design documentation;\\n- Communicate effectively with local management and external team\\nmembers;\\n- Develop applications according to technical documentation; \\n- Develop test cases;\\n- Install and configure necessary environment for the developed\\napplications. Provide support in web servers, databases and applications\\nmaintenance.                                                                                                                                                                                                                                                                                                                                                                                                                                                                                                                                                                                                                                                                                                                                                                                                                                                                                                                                                                                                                                                                                                                                                                                                                                                                                                                                                                                                                                                                                                                                                                                                                                                                                                                                                                                                                                                                                                                                                                                                                                                                                                                                                                                                                                                                                                                                                                                                                                                                                                                                                                                                                                                                                                                                                                                                                                                                                                                                         9\n",
       "- Pay regular visits to doctors in hospitals and clinics;\\n- Promote the company's drugs in the capital and regions of Armenia;\\n- Organize local medical meetings.                                                                                                                                                                                                                                                                                                                                                                                                                                                                                                                                                                                                                                                                                                                                                                                                                                                                                                                                                                                                                                                                                                                                                                                                                                                                                                                                                                                                                                                                                                                                                                                                                                                                                                                                                                                                                                                                                                                                                                                                                                                                                                                                                                                                                                                                                                                                                                                                                                                                                                                                                                                                                                                                                                                                                                                                                                                                                                                                                                                                                                                                                                                                                                                                9\n",
       "- Take part in development efforts on large-scale web-based projects,\\nensuring robust and lasting solutions are implemented;\\n- Develop scalable, secure and high-performance backend functionality for\\nweb-based projects;\\n- Write 'clean', well designed code;\\n- Troubleshoot, test and maintain the core product software and databases\\nto ensure strong optimization and functionality;\\n- Make innovations and build things that people will blog about.                                                                                                                                                                                                                                                                                                                                                                                                                                                                                                                                                                                                                                                                                                                                                                                                                                                                                                                                                                                                                                                                                                                                                                                                                                                                                                                                                                                                                                                                                                                                                                                                                                                                                                                                                                                                                                                                                                                                                                                                                                                                                                                                                                                                                                                                                                                                                                                                                                                                                                                                                                                                                                                                                                                                                                                                                                                                                                 9\n",
       "- Review and assess the adequacy of all documentation (including but not\\nlimited to terms of reference, bidding documents for procurements,\\nevaluation panel reports, progress reports, and change order requests)\\nprovided by MCA-Armenia for no objection approval, authorization or\\ncontent;\\n- Review all study documents submitted to MCA-Armenia and make\\nrecommendations to MCC on quality, adequacy and relevance. Brief MCC on\\nissues relating to quality, time line impact and cost impact;\\n- Review and assess the adequacy of all engineering drawings from\\npre-design through final construction;\\n- Monitor MCA-Armenias reports to assess the contractors compliance\\nwith Environmental Management Plans;\\n- Monitor reports from MCA-Armenia that all necessary permits\\n(construction and environmental) have been obtained prior to\\nconstruction;\\n- Verify, review and monitor implementation of all plans, manuals and\\nprograms;\\n- Review and provide comments on all material changes to the plans and\\nmanuals;\\n- Liaise with Technical Auditors who will audit the construction on the\\nRural Roads;\\n- Rehabilitation and Irrigated Agriculture Projects and provide comments\\nto MCC on the progress/ results of these audits;\\n- Verify, review, and assess the adequacy of all reports that are\\nprovided by the Contractor(s), Implementing Entity and Accountable\\nEntity;\\n- Undertake periodic missions and provide (quarterly, or as required by\\nMCC) spot onsite monitoring, spot testing and reporting of construction\\nprogress, Quality Assurance and Quality Control, EMP compliance, and\\nmaterial usage as per standard construction practice, and/or provide\\nspot audit on the Supervisory Firm(s) and assess quality and\\ncompleteness of responsibilities of the firm(s);\\n- Assist in transferring analyses, costing, drawings, implementation\\nplans, procurement documentation and other relevant data and information\\nto MCC and the Procurement Agent;\\n- Review and assess the adequacy of the road maintenance strategic plan.                                                                                                                                                                                                                                                                                                                                                                                                                                                                                                                                                                                                                                                                                                                                                                                                                                                                                                                                                                                                                                                                                                                                                                                                                                                                    9\n",
       "- Review and proofread submitted announcements, make grammatical as well\\nas context corrections;\\n- Communicate with respective organizations for verifying specific\\ndetails of announcements when necessary;\\n- Explain users on the usage of the website, its forms, posting\\nprocedures and fees;\\n- Disseminate announcements strictly following the posting rules;\\n- Prepare and provide organizations with invoices using the website\\nbilling system, as well as follow up to ensure companies have paid for\\ntheir announcements on time.                                                                                                                                                                                                                                                                                                                                                                                                                                                                                                                                                                                                                                                                                                                                                                                                                                                                                                                                                                                                                                                                                                                                                                                                                                                                                                                                                                                                                                                                                                                                                                                                                                                                                                                                                                                                                                                                                                                                                                                                                                                                                                                                                                                                                                                                                                                                                                                                                                                                                                                                                                                                                                                                                                                                                                                                               9\n",
       "                                                                                                                                                                                                                                                                                                                                                                                                                                                                                                                                                                                                                                                                                                                                                                                                                                                                                                                                                                                                                                                                                                                                                                                                                                                                                                                                                                                                                                                                                                                                                                                                                                                                                                                                                                                                                                                                                                                                                                                                                                                                                                                                                                                                                                                                                                                                                                                                                                                                                                                                                                                                                                                                                                                                                                                                                                                                                                                                                                                                                                                                                                                                                                                                                                                                                                                                                                  ..\n",
       "- Plan acommodation of the equipment and organize corresponding works on\\ntheir installation and adjustment;\\n- Technical maintenance of technological processes.                                                                                                                                                                                                                                                                                                                                                                                                                                                                                                                                                                                                                                                                                                                                                                                                                                                                                                                                                                                                                                                                                                                                                                                                                                                                                                                                                                                                                                                                                                                                                                                                                                                                                                                                                                                                                                                                                                                                                                                                                                                                                                                                                                                                                                                                                                                                                                                                                                                                                                                                                                                                                                                                                                                                                                                                                                                                                                                                                                                                                                                                                                                                                                                                  1\n",
       "- Assist Relationship Managers in initiating new relationships and\\nmaintaining and developing existing ones;\\n- Accompany Relationship Managers on client calls and site visits and\\ndocument all required information for close risk monitoring;\\n- Assist Relationship Managers in the preparation of credit packages and\\nthe daily monitoring of clients' accounts;\\n- Ensure appropriate credit process discipline: timely review/ renewal of\\ncredit lines, proper renewal of legal documentation, proper approval of\\navailements and excesses, etc;\\n- Assist Relationship Managers in identifying and monitoring classified\\naccounts, proposing remedial action plans to the Credit Committee and\\nensuring their proper implementation;\\n- Ensure strict compliance with local policies and procedures;\\n- Perform other duties and responsibilities as assigned.                                                                                                                                                                                                                                                                                                                                                                                                                                                                                                                                                                                                                                                                                                                                                                                                                                                                                                                                                                                                                                                                                                                                                                                                                                                                                                                                                                                                                                                                                                                                                                                                                                                                                                                                                                                                                                                                                                                                                                                                                                                                                                                                                                                                                                                                                                                                                                                                                                                                                      1\n",
       "- Work with project senior staff to identify and develop individual\\nprojects that will expand private-sector driven provision of heat to\\nArmenian residential consumers;\\n- Identify bank or other financing sources and work with these parties\\nand project developers/ proponents to design and package sustainable\\nresidential heating investment projects;\\n- Develop acceptable financial and technical (with input from others)\\nanalyses, documentation and processes for obtaining project financing;\\n- Work in fast-moving environment and interact with financial\\ninstitution, government, private sector and resident representatives\\nroutinely.                                                                                                                                                                                                                                                                                                                                                                                                                                                                                                                                                                                                                                                                                                                                                                                                                                                                                                                                                                                                                                                                                                                                                                                                                                                                                                                                                                                                                                                                                                                                                                                                                                                                                                                                                                                                                                                                                                                                                                                                                                                                                                                                                                                                                                                                                                                                                                                                                                                                                                                                                                                                                                                                                                 1\n",
       "- Perform software testing, implement software problem solutions;\\n- Prepare technical tasks/ issues intended for innovations;\\n- Once innovations adopted, present them to end users and conduct users\\ntraining if necessary;\\n- Monitor system operation;\\n- Consult users about program utilization.                                                                                                                                                                                                                                                                                                                                                                                                                                                                                                                                                                                                                                                                                                                                                                                                                                                                                                                                                                                                                                                                                                                                                                                                                                                                                                                                                                                                                                                                                                                                                                                                                                                                                                                                                                                                                                                                                                                                                                                                                                                                                                                                                                                                                                                                                                                                                                                                                                                                                                                                                                                                                                                                                                                                                                                                                                                                                                                                                                                                                                                           1\n",
       "The responsibilities are varied and there is a\\nneed to complete routine tasks to a high standard.                                                                                                                                                                                                                                                                                                                                                                                                                                                                                                                                                                                                                                                                                                                                                                                                                                                                                                                                                                                                                                                                                                                                                                                                                                                                                                                                                                                                                                                                                                                                                                                                                                                                                                                                                                                                                                                                                                                                                                                                                                                                                                                                                                                                                                                                                                                                                                                                                                                                                                                                                                                                                                                                                                                                                                                                                                                                                                                                                                                                                                                                                                                                                                                                                                                                 1\n",
       "- Responsible for carriers interconnections management; \\n- Responsible for SoftSwitch system management;\\n- Conduct analysis of existing technical solutions and development of\\nstrategies;\\n- Address technical issues and update trouble tickets;\\n- Integrate new systems.                                                                                                                                                                                                                                                                                                                                                                                                                                                                                                                                                                                                                                                                                                                                                                                                                                                                                                                                                                                                                                                                                                                                                                                                                                                                                                                                                                                                                                                                                                                                                                                                                                                                                                                                                                                                                                                                                                                                                                                                                                                                                                                                                                                                                                                                                                                                                                                                                                                                                                                                                                                                                                                                                                                                                                                                                                                                                                                                                                                                                                                                                    1\n",
       "- Write manufacturing, regression, and system test applications\\ninvolving hardware and software components;\\n- Write test tool applications to assist with tests and data analysis;\\n- Assist with writing manufacturing and regression test cases;\\n- Convert current test frame work from Pascal to C# potentially;\\n- Other functions may be assigned to assist with the overall test\\nprocess.                                                                                                                                                                                                                                                                                                                                                                                                                                                                                                                                                                                                                                                                                                                                                                                                                                                                                                                                                                                                                                                                                                                                                                                                                                                                                                                                                                                                                                                                                                                                                                                                                                                                                                                                                                                                                                                                                                                                                                                                                                                                                                                                                                                                                                                                                                                                                                                                                                                                                                                                                                                                                                                                                                                                                                                                                                                                                                                                                                1\n",
       "- Participate in the process of writing and distributing press releases;\\n- Supervise the implementation of agreements;\\n- Organize and supervise the shooting process;\\n- Archive documents;\\n- Do translations;\\n- Track press releases;\\n- Maintain and update information on the Haypost website;\\n- Perform other tasks issued by the immediate superior and envisaged by\\ninternal legal acts.                                                                                                                                                                                                                                                                                                                                                                                                                                                                                                                                                                                                                                                                                                                                                                                                                                                                                                                                                                                                                                                                                                                                                                                                                                                                                                                                                                                                                                                                                                                                                                                                                                                                                                                                                                                                                                                                                                                                                                                                                                                                                                                                                                                                                                                                                                                                                                                                                                                                                                                                                                                                                                                                                                                                                                                                                                                                                                                                                               1\n",
       "- Monitor and assess Bank Risks;\\n- Prepare monthly, quarterly and annual risk management reports;\\n- Analyze the external financial market developments;\\n- Make forecasts;\\n- Follow the recommendations of the Head of Risk Management Division.                                                                                                                                                                                                                                                                                                                                                                                                                                                                                                                                                                                                                                                                                                                                                                                                                                                                                                                                                                                                                                                                                                                                                                                                                                                                                                                                                                                                                                                                                                                                                                                                                                                                                                                                                                                                                                                                                                                                                                                                                                                                                                                                                                                                                                                                                                                                                                                                                                                                                                                                                                                                                                                                                                                                                                                                                                                                                                                                                                                                                                                                                                                1\n",
       "- Manage day-to-day activities in Operations (Administration,\\nProcurement, IT);\\n- Provide the leadership, management and vision necessary to ensure that\\nthe Foundation has the proper operational controls, administrative and\\nreporting procedures in place to effectively grow the Foundation and to\\nensure operating efficiency;\\n- Plan, coordinate, and execute the annual budget process of Operations;\\n- Collaborate with the management team to develop and implement plans for\\nthe operationalinfrastructure of systems, processes, and personnel\\ndesigned to accommodate the rapid growthobjectives of the Foundation;\\n- Provide timely, accurate and complete reports on the operating\\ncondition;\\n- Participate in compensation, training, short and long-term goals for\\nthe Operations team;\\n- Participate in the recruitment and selection of  staff and/ or\\nvolunteers with appropriate skills for the operations activities;\\n- Manage staff and/ or volunteers according to the established policies\\nand practices of the Foundation;\\n- Positively influence others to achieve results that are in the best\\ninterest of the Foundation;\\n- Contract qualified consultants to work on the projects as appropriate.                                                                                                                                                                                                                                                                                                                                                                                                                                                                                                                                                                                                                                                                                                                                                                                                                                                                                                                                                                                                                                                                                                                                                                                                                                                                                                                                                                                                                                                                                                                                                                                                                                                                                                                                                                                                                                                                                                                                                                                                                                                                                                                1\n",
       "- Research and follow up on the legal regulations in RA; \\n- Inform APTV Management on any changes in the law, if such changes\\nconcern media field, HR practice or overall performance;\\n- Develop and draft legal documents required including generic employment\\ncontracts;\\n- Inform Managers and CEO if the changes are needed;\\n- Draft necessary new and updated forms;\\n- Provide control over the preparation of legal documents and materials\\nin response to inquiries and claims from local authorities.                                                                                                                                                                                                                                                                                                                                                                                                                                                                                                                                                                                                                                                                                                                                                                                                                                                                                                                                                                                                                                                                                                                                                                                                                                                                                                                                                                                                                                                                                                                                                                                                                                                                                                                                                                                                                                                                                                                                                                                                                                                                                                                                                                                                                                                                                                                                                                                                                                                                                                                                                                                                                                                                                                                                                                                                                                              1\n",
       "- Ensure administration and implementation of Public Information and\\nAdvocacy Strategies focusing on achievement of the following results:\\na) Conceptualization, formulation and operation of Public Information\\nand Advocacy strategies; proposition and implementation of activities,\\ninitiatives and programmes to promote public awareness and access to\\nUNDP information and publicity materials through print, electronic and\\nother media;\\nb) Advocacy and promotion of awareness and understanding of UNDP\\nmandate, mission and purpose. Planning and management of the\\ndissemination of advocacy material including Human Development Reports,\\nGlobal Conferences and other UN/UNDP publications; discern opportunities\\nfor advocacy; possibility of acting as a Public Information spokesman on\\nbehalf of UNDP;\\nc) Advising office units in the organization of advocacy and\\ncommunication activities for the Country Programme;\\nd) Plans effective communications strategy for the CO Programme;\\n- Provide effective support to the UNDP programme focusing on the\\nachievement of the following results:\\na) Writing, editing public information materials and reports and\\nprogramme communication messages, statements and interviews; ensuring\\nthe broad dissemination in the media and among development partners;\\nb) Updating the design and content of the country office website in\\nclose cooperation with UNDP ICT Associate;\\nc) Formulation and monitoring of media strategies, outcomes and outputs\\nfor the RBM process;\\nd) Creation, promotion and maintenance UNDP marketing package in\\nassociation with the CO staff; the package contains initiatives,\\nprojects, programmes and UNDP services to potential clients;\\n- Provide support to the UNRC focusing on the achievement of the\\nfollowing results:    \\na) Reviews, analyzes local and international media on a daily basis\\nincluding electronic, printed and broadcast materials and prepares\\nregular and accurate briefings/reports to the UNRC on issues of\\nrelevance to the work of the UN/UNDP;\\nb) Translates and interprets for the UNRC as needed and minutes key\\nmeetings with counterparts;\\n- Provide support in creation of strategic partnerships focusing on\\nachievement of the following results:\\na) Liaising with national and international media for adequate coverage\\nof UNDP activities and advocacy on issues on issues within the\\norganizations mandate;\\n- Ensure facilitation of knowledge building and knowledge sharing in the\\nCO focusing on achievement of the following results:\\t\\na) Preparation, promotion, carrying out communications tools for use of\\nUNDP staff and provision of relevant training. Synthesizes of lessons\\nlearnt and best practices. Sound contributions to knowledge networks and\\ncommunities of practice;\\nb) Support to UN-wise communications strategies, plans and activities,\\nincluding but not limited to the UN Millennium Development Goals/ MDGs-\\nEffective contribution to the activities of the joint UN Communications\\nGroup-Armenia- Contribution to the promotion of and advocacy for the\\nMillennium Development Goals- Contribution to UN in Armenia website and\\ne-Bulletin, other joint UN publications, such as posters, calendars,\\nsouvenirs, leaflets, etc.     1\n",
       "- Organize sale and promote company's different services;\\n- Organize meetings and presentations as potential clients;\\n- Train new members of Sales department;\\n- Execute sales plans;\\n- Ensure setting up of cross-functional relations with company's\\nsubdivisions for the execution of Sales office tasks;\\n- Be responsible for reporting and business writing;\\n- Perform other related duties as may be requested by the Head of\\nDepartment.                                                                                                                                                                                                                                                                                                                                                                                                                                                                                                                                                                                                                                                                                                                                                                                                                                                                                                                                                                                                                                                                                                                                                                                                                                                                                                                                                                                                                                                                                                                                                                                                                                                                                                                                                                                                                                                                                                                                                                                                                                                                                                                                                                                                                                                                                                                                                                                                                                                                                                                                                                                                                                                                                                                                                                                                                                                                                                            1\n",
       "- Treat and refine methodology works with corporative clients;\\n- Keep clients database, make clients segmentation, implement, work out\\nand input mechanisms on encouraging client managers;\\n- Develop means of technical provisions with the purpose of organizing\\nand implementing works with clients (CRM investment, LSOFT treatments,\\nCall-center and others);\\n- Manage the work plan with clients to implement its execution and\\nsupervision towards current works;\\n- Be responsible for involvement of corporative clients in branches and\\nfor the current analysis of service work and make appropriate\\nsuggestions;\\n- Provide current supervision on the task fulfillment involving branches\\npotential clients through the application of new technologies and also\\nassist in that processes.                                                                                                                                                                                                                                                                                                                                                                                                                                                                                                                                                                                                                                                                                                                                                                                                                                                                                                                                                                                                                                                                                                                                                                                                                                                                                                                                                                                                                                                                                                                                                                                                                                                                                                                                                                                                                                                                                                                                                                                                                                                                                                                                                                                                                                                                                                                                                                                                                                                                                                                                                 1\n",
       "- Develop marketing strategies of the company;\\n- Provide support to organize marketing and sales (receive and process\\norders from customers);\\n- Provide customers with all necessary information on company products\\nand services; \\n- Conduct follow up with potential customers;\\n- Conduct market research and analysis;\\n- Register all the information about sold products;\\n- Answer customer's telephone inquiries;\\n- Provide assistance and support in relevant daily activities; \\n- Maintain files and records including incoming/ outgoing correspondence\\nand other documents;\\n- Organize events as assigned by the line manager;\\n- Prepare and follow up publication and advertisement of company; \\n- Comply with company policies and procedures, maintain privacy and\\nconfidentiality of information and protect company assets;\\n- Perform other duties as required.                                                                                                                                                                                                                                                                                                                                                                                                                                                                                                                                                                                                                                                                                                                                                                                                                                                                                                                                                                                                                                                                                                                                                                                                                                                                                                                                                                                                                                                                                                                                                                                                                                                                                                                                                                                                                                                                                                                                                                                                                                                                                                                                                                                                                                                                                                                                                                                                                                                                      1\n",
       "- Operate motor vehicle to transport authorized personnel within the\\ncity and surrounding areas, including field trips to project sites;\\n- Perform day-to-day maintenance of the vehicle (oil, water, battery,\\netc.), perform minor repairs, arrange for other repairs, and maintain\\nvehicle in clean and serviceable condition;\\n- Prepare vehicle maintenance plans and related reports, and initiate\\nprocurement of spare parts;\\n- Regularly update all CARD drivers on rules and regulations related to\\nsafe driving. Provide advice on issues related to vehicle maintenance\\nand safe driving;\\n- Regularly inspect vehicles and drivers appearance and evaluate\\ndrivers in accordance with CARD procedures;\\n- Maintain CARD generators (refueling, etc.);\\n- Assure passenger compliance with safety regulations relating to\\ntransportation in driver's vehicle;\\n- In case of an accident ensure that the required actions are taken in\\naccordance with CARD rules and regulations;\\n- Perform other duties as assigned.                                                                                                                                                                                                                                                                                                                                                                                                                                                                                                                                                                                                                                                                                                                                                                                                                                                                                                                                                                                                                                                                                                                                                                                                                                                                                                                                                                                                                                                                                                                                                                                                                                                                                                                                                                                                                                                                                                                                                                                                                                                                                                                                                                                                                                                                                                                        1\n",
       "- Assess the existing plant protection situation related to the most\\ndangerous pests in the country with special attention to the mole species\\n(identification of pest species; historical data, if available;\\nassessment of their population size, and available control methods);\\n- Conduct site visits in different regions of the country affected by key\\npests;\\n- Ensure administrative and logistical arrangements for project\\nactivities, as necessary;\\n- Prepare, in collaboration with the international consultant, compact\\nillustrated training materials with essential information on the control\\nof key pests;\\n- Assist in the organization of two national capacity building workshops\\nfor experts at extension services on the control of key pests and train\\nthem in assisting local farmers in better controlling pests;\\n- Organize 6 farmer field schools (FFS) on control of key pests using IPM\\n(Integrated Pest Management);\\n- Assist the international consultants in the preparation of an IPM\\nprogram to control key pest species in the country;\\n- Prepare midterm and final reports on project activities;\\n- Perform related work at the request of international consultants and\\nthe LTO.                                                                                                                                                                                                                                                                                                                                                                                                                                                                                                                                                                                                                                                                                                                                                                                                                                                                                                                                                                                                                                                                                                                                                                                                                                                                                                                                                                                                                                                                                                                                                                                                                                                                                                                                                                                                                                                                                                                                                                                                                                                                                                                          1\n",
       "Delivery and implementation:\\n- Provide technical support in delivery and implementation of rural\\neconomic development project in the North of Armenia;\\n- Lead and implement Market Development Component in selected value\\nchains (milk and meat) within the mentioned project framework at all\\nlevels (strategic, tactical and operational) ensuring the program is\\nrelevant to stakeholders needs and interests;                           \\n- In close collaboration with other components of the Project, to ensure\\nfulfillment of set project objectives and deliverables;           \\n- Build and manage relationships with stakeholders, including\\ncommunities, producer organizations, key private sector companies, as\\nwell as national and local NGOs;\\n- Ensure adherence to SDA quality standards and integration of best\\npractice as well as adherence to donors and contractual requirements;\\n- Provide and facilitate technical support, training and information to\\npartners on social enterprise management;\\n- Implement gender diversity, governance and environmental policies\\nthroughout programming;\\n- Produce quality program reports (monthly, quarterly and annually) and\\nother required documents and materials (e.g. newsletters, informational\\nleaflets etc.) for SDA and its donors and ensure that those meet\\nstipulated deadlines;\\n- Perform other duties as required by the Management of the Project and\\nOrganization.                                                                                                                                                                                                                                                                                                                                                                                                                                                                                                                                                                                                                                                                                                                                                                                                                                                                                                                                                                                                                                                                                                                                                                                                                                                                                                                                                                                                                                                                                                                                                                                                                                                                                                                                                                                                                                                                                         1\n",
       "- Participate in development of new and existing projects;\\n- Report to a Group Manager;\\n- Provide time estimation for assigned tasks and meet deadlines;\\n- Train and supervise juniors.                                                                                                                                                                                                                                                                                                                                                                                                                                                                                                                                                                                                                                                                                                                                                                                                                                                                                                                                                                                                                                                                                                                                                                                                                                                                                                                                                                                                                                                                                                                                                                                                                                                                                                                                                                                                                                                                                                                                                                                                                                                                                                                                                                                                                                                                                                                                                                                                                                                                                                                                                                                                                                                                                                                                                                                                                                                                                                                                                                                                                                                                                                                                                                         1\n",
       "- Ensure sales of all fixed/ mobile products and services of the\\ncompany;\\n- Set sales plans and control their achievement;\\n- Provide high quality service in customer service centers;\\n- Carry out precise motivation activities to increase the effectiveness\\nof work performance and boost sales;\\n- Create and use tools to realize sales systematic analysis;\\n- Coordinate effective cross-functional cooperation;\\n- Provide employees with trainings and take up activities for their\\nfurther development.                                                                                                                                                                                                                                                                                                                                                                                                                                                                                                                                                                                                                                                                                                                                                                                                                                                                                                                                                                                                                                                                                                                                                                                                                                                                                                                                                                                                                                                                                                                                                                                                                                                                                                                                                                                                                                                                                                                                                                                                                                                                                                                                                                                                                                                                                                                                                                                                                                                                                                                                                                                                                                                                                                                                                                                                                                            1\n",
       "- Maintain and expand sales territory;\\n- Make daily sales calls with customers;\\n- Sell an extensive range of automotive fasteners, chemicals,\\nmaintenance and other related products;\\n- Provide constant sales increase.                                                                                                                                                                                                                                                                                                                                                                                                                                                                                                                                                                                                                                                                                                                                                                                                                                                                                                                                                                                                                                                                                                                                                                                                                                                                                                                                                                                                                                                                                                                                                                                                                                                                                                                                                                                                                                                                                                                                                                                                                                                                                                                                                                                                                                                                                                                                                                                                                                                                                                                                                                                                                                                                                                                                                                                                                                                                                                                                                                                                                                                                                                                                       1\n",
       "- Prepare articles in Armenian language; \\n- Organize interviews;\\n- Daily report on the schedule of planned interviews and meetings in the\\nmornings;\\n- Realize the media work plan, provided by the company.                                                                                                                                                                                                                                                                                                                                                                                                                                                                                                                                                                                                                                                                                                                                                                                                                                                                                                                                                                                                                                                                                                                                                                                                                                                                                                                                                                                                                                                                                                                                                                                                                                                                                                                                                                                                                                                                                                                                                                                                                                                                                                                                                                                                                                                                                                                                                                                                                                                                                                                                                                                                                                                                                                                                                                                                                                                                                                                                                                                                                                                                                                                                                    1\n",
       "- Supervise the overall environmental programmes for the mine; \\n- Supervise the relevant facilities at site; \\n- Develop environmental systems and programmes;\\n- Provide all employees with ongoing training on  environmental issues;\\n- Ensure activities at the operations within the appropriate regulations\\nand liaise with appropriate local government agencies; \\n- Liaise with Department Heads to develop a safer work environment for\\nall employees at site;\\n- Provide technical advice, and liaison with regulatory and corporate\\nauthorities, as required on issues affecting the environmental\\nperformance of the mine;\\n- Develop and implement environmental management and monitoring systems\\nthat are consistent with the policies of the company and applicable\\ngovernment regulations;\\n- Conduct regular environmental inspections, and continually review the\\nprocedures. Integrate care of people and the environment into daily\\nmanagement;\\n- Prepare a quarterly and annual environmental reports on site\\noperation.                                                                                                                                                                                                                                                                                                                                                                                                                                                                                                                                                                                                                                                                                                                                                                                                                                                                                                                                                                                                                                                                                                                                                                                                                                                                                                                                                                                                                                                                                                                                                                                                                                                                                                                                                                                                                                                                                                                                                                                                                                                                                                                                                                                                                                                                                                         1\n",
       "- Acquire office equipment and stationery;\\n- Be responsible for inventory of company movable property; \\n- Acquire corporative telephone numbers;\\n- Coordinate works in the kitchen and lunch cooking for staff;\\n- Watch over communal services and control implementation of regular\\npayments;\\n- Control office tidiness; \\n- Coordinate work of the company drivers;\\n- Provide cars preventive check and malfunctions repair;\\n- Search for car repair centers, analyze offers and organize tender;\\n- Be responsible for office equipment and spares stocking and necessary\\ndocuments execution; \\n- Acquire car and warehouse equipment spares;\\n- Provide technical support and repair warehouse equipment;\\n- Introduce safety facilities and organize corresponding trainings for\\nstaff; \\n- Watch over electrical appliance disconnection in the evenings;\\n- Manage general service workers team;\\n- Set and realize long-term goals.                                                                                                                                                                                                                                                                                                                                                                                                                                                                                                                                                                                                                                                                                                                                                                                                                                                                                                                                                                                                                                                                                                                                                                                                                                                                                                                                                                                                                                                                                                                                                                                                                                                                                                                                                                                                                                                                                                                                                                                                                                                                                                                                                                                                                                                                                                                                                                                                             1\n",
       "- Ensure that appraisal quality meets standards as outlined by the\\nCredit Organization and legislation of RA;\\n- Develop, coordinate and provide appraisal training to loan officers\\nand ensure staff continually improves its performance;\\n- Formulate and implement appraisal policy as prescribed by FCA. Keep\\ncurrent knowledge of real estate values and property developments;\\n- Develop, analyze and update supporting information used in the\\nappraisal process throughout the Credit Organization including sales\\nregisters, building cost data and forestry data;\\n- Communicate unique/ adverse findings to the Chief Lending Officer as\\nobserved during collateral inspections;\\n- Complete land value trends annually for management and board of\\ndirectors of each marz;\\n- Maintain market data for chattels and provide to credit officers\\nthroughout the year;\\n- Make appraisals on all collateral pledged for loans and eligible\\nproperties;\\n- Conduct appraisal reviews and administer personnel actions approved by\\nthe CEO;\\n- Receive philosophical direction from the CEO;\\n- Complex decision making and problem solving skills required.                                                                                                                                                                                                                                                                                                                                                                                                                                                                                                                                                                                                                                                                                                                                                                                                                                                                                                                                                                                                                                                                                                                                                                                                                                                                                                                                                                                                                                                                                                                                                                                                                                                                                                                                                                                                                                                                                                                                                                                                                                                                                                                                                                                    1\n",
       "- Develop short and long term recruitment strategy (make monthly and\\nyearly headcount, identify sources of recruitment, target audience,\\netc.);\\n- Develop  job descriptions of vacant positions together with appropriate\\ndepartment responsible/ HR manager and post based on company's short/\\nlong term HR planning;\\n- Screen received applications, short list and interview candidates;\\n- Evaluate interview results based on job description; \\n- Develop interview evaluation tools;\\n- Manage recruitment online and hard copy database;\\n- Conduct exit interviews with resigned employees; \\n- Prepare company information booklets and related materials;\\n- Present Orange Armenia during career fairs/ job fairs and other\\nnetworking events;\\n- Sign partnership with new targeted universities;\\n- Maintain existing university partnerships, wifi corners, internships\\nand trainings conducted by OAM employees.                                                                                                                                                                                                                                                                                                                                                                                                                                                                                                                                                                                                                                                                                                                                                                                                                                                                                                                                                                                                                                                                                                                                                                                                                                                                                                                                                                                                                                                                                                                                                                                                                                                                                                                                                                                                                                                                                                                                                                                                                                                                                                                                                                                                                                                                                                                                                                                                                           1\n",
       "Responsibilities include but are not limited to:\\n- Assist in performing all financial tasks necessary to achieve the\\norganization's mission;\\n- Participate in developing new business, specifically: assist CEO in\\nidentifying opportunities, the drafting of prospective programmatic\\nbudgets, and determining cost effectiveness of prospective delivery;\\n- Manage and supervise assigned operations to achieve goals within\\navailable resources; review progress and direct changes as needed;\\n- Provide leadership and direction in the development of short and long\\nrange plans; gather, interpret, and prepare data for studies, reports and\\nrecommendations; coordinate department activities with other departments\\nand agencies as needed;\\n- Provide professional advice to supervisors; make presentations to\\nGeneral Director, Board;\\n- Assure that assigned areas of responsibility are performed within\\nbudget; perform cost control activities; monitor revenues and\\nexpenditures in assigned area to assure sound fiscal control; prepare\\nannual budget requests; assure effective and efficient use of budgeted\\nfunds, personnel, materials, facilities and time;\\n- Determine work procedures, prepare work schedules and expedite\\nworkflow; study and standardize procedures to improve efficiency and\\neffectiveness of operations;\\n- Oversee cash flow planning and ensure availability of funds as needed;\\n- Oversee cash, investment and asset management;\\n- Oversee financing strategies and activities, as well as banking\\nrelationships;\\n- Develop and utilize forward-looking, predictive models and\\nactivity-based financial analysis; to provide insight into the\\norganizations operations and business plans;\\n- Be responsible for the financial aspects of risk assessment and\\nabatement, strategic planning and new program development;\\n- Coordinate the development and monitoring of budgets;\\n- Develop financial business plans and forecasts;\\n- Oversee the Controller in ensuring procedures and computer application\\nsystems, maintain proper records and afford adequate accounting controls\\nand services;\\n- Ensure maintenance of appropriate internal controls and financial\\nprocedures;\\n- Design financial cycles and procedures for new projects;\\n- Apply and demonstrate adequate financial and other related management\\ncontrols.                                                                                                                                                                                                                                                                                                                                                                                                                                                                                                                                                                                                                                                                                                                                                                                                                                                                                                                                              1\n",
       "- Organize and supervise professional development of the employees, train\\nthe staff to work with modern technology, train their soft skills and\\ntechnical skills;\\n- Develop training plans;\\n- Organize and supervise implementation training processes;\\n- Collaborate with other Units of the Company, identifying the needs for\\nprovision of trainings; \\n- Organize and provide evaluation of knowledge and skills before and\\nafter training; \\n- Plan and organize collaboration with other Companies in the field of\\neducational, project or practical works;    \\n- Organize the work of the Training Center; \\n- Prepare and submit reports on the performed activities in a timely\\nmanner.                                                                                                                                                                                                                                                                                                                                                                                                                                                                                                                                                                                                                                                                                                                                                                                                                                                                                                                                                                                                                                                                                                                                                                                                                                                                                                                                                                                                                                                                                                                                                                                                                                                                                                                                                                                                                                                                                                                                                                                                                                                                                                                                                                                                                                                                                                                                                                                                                                                                                                                                                                                                                                                         1\n",
       "- Responsible for administration of databases management systems, and for\\nassurance of functioning of application systems created on this base;\\n- Responsible for administration of application software:\\na) install software;\\nb) study operating software technology, participate in system new\\nversions testing and implementation works;\\nc) acquire and analyze data on system operation, as well as prepare\\nproposals on system upgrading;\\nd) conduct training and consulting of systems users.                                                                                                                                                                                                                                                                                                                                                                                                                                                                                                                                                                                                                                                                                                                                                                                                                                                                                                                                                                                                                                                                                                                                                                                                                                                                                                                                                                                                                                                                                                                                                                                                                                                                                                                                                                                                                                                                                                                                                                                                                                                                                                                                                                                                                                                                                                                                                                                                                                                                                                                                                                                                                                                                                                                                                                                                                                                        1\n",
       "- Work with Administrative Director of the company, supervise\\nconstruction process of new supermarket and warehouse sites, as well as\\nall re-construction activities conducted in all company stores; \\n- Control the construction quality, ensure the timely completion of\\nconstruction works;\\n- Fulfill other assignments of Administrative Director.                                                                                                                                                                                                                                                                                                                                                                                                                                                                                                                                                                                                                                                                                                                                                                                                                                                                                                                                                                                                                                                                                                                                                                                                                                                                                                                                                                                                                                                                                                                                                                                                                                                                                                                                                                                                                                                                                                                                                                                                                                                                                                                                                                                                                                                                                                                                                                                                                                                                                                                                                                                                                                                                                                                                                                                                                                                                                                                                                                                                        1\n",
       "Name: JobRequirment, Length: 14182, dtype: int64"
      ]
     },
     "execution_count": 46,
     "metadata": {},
     "output_type": "execute_result"
    }
   ],
   "source": [
    "# Display the entry counts for the Year column\n",
    "data['JobRequirment'].value_counts()"
   ]
  },
  {
   "cell_type": "code",
   "execution_count": 47,
   "metadata": {},
   "outputs": [
    {
     "data": {
      "text/plain": [
       "Index(['jobpost', 'date', 'Title', 'Company', 'AnnouncementCode', 'Term',\n",
       "       'Eligibility', 'Audience', 'StartDate', 'Duration', 'Location',\n",
       "       'JobDescription', 'JobRequirment', 'RequiredQual', 'Salary',\n",
       "       'ApplicationP', 'OpeningDate', 'Deadline', 'Notes', 'AboutC', 'Attach',\n",
       "       'Year', 'Month', 'IT'],\n",
       "      dtype='object')"
      ]
     },
     "execution_count": 47,
     "metadata": {},
     "output_type": "execute_result"
    }
   ],
   "source": [
    "data.columns"
   ]
  },
  {
   "cell_type": "code",
   "execution_count": 48,
   "metadata": {},
   "outputs": [],
   "source": [
    "data_clean = data.copy()"
   ]
  },
  {
   "cell_type": "markdown",
   "metadata": {},
   "source": [
    " editing non descriptive columns"
   ]
  },
  {
   "cell_type": "code",
   "execution_count": 49,
   "metadata": {},
   "outputs": [],
   "source": [
    "data_clean = data_clean.rename(columns = {'ApplicationP':'ApplicationProcedure',\n",
    "                                    'AboutC':'AboutCompany',\n",
    "                                     'RequiredQual':'RequiredQualifications',\n",
    "                                     'JobRequirment':'JobRequirement'})"
   ]
  },
  {
   "cell_type": "code",
   "execution_count": 50,
   "metadata": {},
   "outputs": [
    {
     "name": "stdout",
     "output_type": "stream",
     "text": [
      "<class 'pandas.core.frame.DataFrame'>\n",
      "RangeIndex: 19001 entries, 0 to 19000\n",
      "Data columns (total 24 columns):\n",
      "jobpost                   19001 non-null object\n",
      "date                      19001 non-null object\n",
      "Title                     18973 non-null object\n",
      "Company                   18994 non-null object\n",
      "AnnouncementCode          1208 non-null object\n",
      "Term                      7676 non-null object\n",
      "Eligibility               4930 non-null object\n",
      "Audience                  640 non-null object\n",
      "StartDate                 9675 non-null object\n",
      "Duration                  10798 non-null object\n",
      "Location                  18969 non-null object\n",
      "JobDescription            15109 non-null object\n",
      "JobRequirement            16479 non-null object\n",
      "RequiredQualifications    18517 non-null object\n",
      "Salary                    9622 non-null object\n",
      "ApplicationProcedure      18941 non-null object\n",
      "OpeningDate               18295 non-null object\n",
      "Deadline                  18936 non-null object\n",
      "Notes                     2211 non-null object\n",
      "AboutCompany              12470 non-null object\n",
      "Attach                    1559 non-null object\n",
      "Year                      19001 non-null int64\n",
      "Month                     19001 non-null int64\n",
      "IT                        19001 non-null bool\n",
      "dtypes: bool(1), int64(2), object(21)\n",
      "memory usage: 3.4+ MB\n"
     ]
    }
   ],
   "source": [
    "data_clean.info()"
   ]
  },
  {
   "cell_type": "code",
   "execution_count": 51,
   "metadata": {},
   "outputs": [
    {
     "data": {
      "text/html": [
       "<div>\n",
       "<style scoped>\n",
       "    .dataframe tbody tr th:only-of-type {\n",
       "        vertical-align: middle;\n",
       "    }\n",
       "\n",
       "    .dataframe tbody tr th {\n",
       "        vertical-align: top;\n",
       "    }\n",
       "\n",
       "    .dataframe thead th {\n",
       "        text-align: right;\n",
       "    }\n",
       "</style>\n",
       "<table border=\"1\" class=\"dataframe\">\n",
       "  <thead>\n",
       "    <tr style=\"text-align: right;\">\n",
       "      <th></th>\n",
       "      <th>jobpost</th>\n",
       "      <th>JobRequirement</th>\n",
       "      <th>IT</th>\n",
       "      <th>Year</th>\n",
       "      <th>Title</th>\n",
       "    </tr>\n",
       "  </thead>\n",
       "  <tbody>\n",
       "    <tr>\n",
       "      <th>18996</th>\n",
       "      <td>Technolinguistics NGO\\n\\n\\nTITLE:  Senior Crea...</td>\n",
       "      <td>- Work closely with product and business teams...</td>\n",
       "      <td>False</td>\n",
       "      <td>2015</td>\n",
       "      <td>Senior Creative UX/ UI Designer</td>\n",
       "    </tr>\n",
       "    <tr>\n",
       "      <th>18997</th>\n",
       "      <td>\"Coca-Cola Hellenic Bottling Company Armenia\" ...</td>\n",
       "      <td>- Establish and manage Category Management dev...</td>\n",
       "      <td>False</td>\n",
       "      <td>2015</td>\n",
       "      <td>Category Development Manager</td>\n",
       "    </tr>\n",
       "    <tr>\n",
       "      <th>18998</th>\n",
       "      <td>\"Coca-Cola Hellenic Bottling Company Armenia\" ...</td>\n",
       "      <td>- Develop, establish and maintain marketing st...</td>\n",
       "      <td>False</td>\n",
       "      <td>2015</td>\n",
       "      <td>Operational Marketing Manager</td>\n",
       "    </tr>\n",
       "    <tr>\n",
       "      <th>18999</th>\n",
       "      <td>San Lazzaro   LLC\\n\\n\\nTITLE:  Head of Online ...</td>\n",
       "      <td>- Handle the project activites of the online s...</td>\n",
       "      <td>False</td>\n",
       "      <td>2015</td>\n",
       "      <td>Head of Online Sales Department</td>\n",
       "    </tr>\n",
       "    <tr>\n",
       "      <th>19000</th>\n",
       "      <td>\"Kamurj\" UCO CJSC\\n\\n\\nTITLE:  Lawyer in Legal...</td>\n",
       "      <td>- Properly provide internal legal services of ...</td>\n",
       "      <td>False</td>\n",
       "      <td>2015</td>\n",
       "      <td>Lawyer in Legal Department</td>\n",
       "    </tr>\n",
       "  </tbody>\n",
       "</table>\n",
       "</div>"
      ],
      "text/plain": [
       "                                                 jobpost  \\\n",
       "18996  Technolinguistics NGO\\n\\n\\nTITLE:  Senior Crea...   \n",
       "18997  \"Coca-Cola Hellenic Bottling Company Armenia\" ...   \n",
       "18998  \"Coca-Cola Hellenic Bottling Company Armenia\" ...   \n",
       "18999  San Lazzaro   LLC\\n\\n\\nTITLE:  Head of Online ...   \n",
       "19000  \"Kamurj\" UCO CJSC\\n\\n\\nTITLE:  Lawyer in Legal...   \n",
       "\n",
       "                                          JobRequirement     IT  Year  \\\n",
       "18996  - Work closely with product and business teams...  False  2015   \n",
       "18997  - Establish and manage Category Management dev...  False  2015   \n",
       "18998  - Develop, establish and maintain marketing st...  False  2015   \n",
       "18999  - Handle the project activites of the online s...  False  2015   \n",
       "19000  - Properly provide internal legal services of ...  False  2015   \n",
       "\n",
       "                                 Title  \n",
       "18996  Senior Creative UX/ UI Designer  \n",
       "18997     Category Development Manager  \n",
       "18998    Operational Marketing Manager  \n",
       "18999  Head of Online Sales Department  \n",
       "19000       Lawyer in Legal Department  "
      ]
     },
     "execution_count": 51,
     "metadata": {},
     "output_type": "execute_result"
    }
   ],
   "source": [
    "data_clean[['jobpost','JobRequirement','IT','Year','Title']].tail()"
   ]
  },
  {
   "cell_type": "code",
   "execution_count": 59,
   "metadata": {},
   "outputs": [],
   "source": [
    "X=data_clean.groupby(['Year'])[['IT']].sum()"
   ]
  },
  {
   "cell_type": "code",
   "execution_count": 60,
   "metadata": {},
   "outputs": [
    {
     "data": {
      "text/html": [
       "<div>\n",
       "<style scoped>\n",
       "    .dataframe tbody tr th:only-of-type {\n",
       "        vertical-align: middle;\n",
       "    }\n",
       "\n",
       "    .dataframe tbody tr th {\n",
       "        vertical-align: top;\n",
       "    }\n",
       "\n",
       "    .dataframe thead th {\n",
       "        text-align: right;\n",
       "    }\n",
       "</style>\n",
       "<table border=\"1\" class=\"dataframe\">\n",
       "  <thead>\n",
       "    <tr style=\"text-align: right;\">\n",
       "      <th></th>\n",
       "      <th>IT</th>\n",
       "    </tr>\n",
       "    <tr>\n",
       "      <th>Year</th>\n",
       "      <th></th>\n",
       "    </tr>\n",
       "  </thead>\n",
       "  <tbody>\n",
       "    <tr>\n",
       "      <th>2004</th>\n",
       "      <td>145.0</td>\n",
       "    </tr>\n",
       "    <tr>\n",
       "      <th>2005</th>\n",
       "      <td>208.0</td>\n",
       "    </tr>\n",
       "    <tr>\n",
       "      <th>2006</th>\n",
       "      <td>225.0</td>\n",
       "    </tr>\n",
       "    <tr>\n",
       "      <th>2007</th>\n",
       "      <td>317.0</td>\n",
       "    </tr>\n",
       "    <tr>\n",
       "      <th>2008</th>\n",
       "      <td>334.0</td>\n",
       "    </tr>\n",
       "  </tbody>\n",
       "</table>\n",
       "</div>"
      ],
      "text/plain": [
       "         IT\n",
       "Year       \n",
       "2004  145.0\n",
       "2005  208.0\n",
       "2006  225.0\n",
       "2007  317.0\n",
       "2008  334.0"
      ]
     },
     "execution_count": 60,
     "metadata": {},
     "output_type": "execute_result"
    }
   ],
   "source": [
    "X.head()"
   ]
  },
  {
   "cell_type": "code",
   "execution_count": 62,
   "metadata": {},
   "outputs": [
    {
     "data": {
      "image/png": "[encoded data removed]",
      "text/plain": [
       "<Figure size 1296x432 with 1 Axes>"
      ]
     },
     "metadata": {
      "needs_background": "light"
     },
     "output_type": "display_data"
    }
   ],
   "source": [
    "import matplotlib.pyplot as plt\n",
    "# make the plots inline with the notebook\n",
    "%matplotlib inline\n",
    "X.plot.bar(figsize=(18,6))\n",
    "\n",
    "plt.show()"
   ]
  },
  {
   "cell_type": "markdown",
   "metadata": {},
   "source": [
    "The data shows in armenia  the  demand of IT  jobs are keep  increasing "
   ]
  },
  {
   "cell_type": "code",
   "execution_count": 77,
   "metadata": {},
   "outputs": [],
   "source": [
    "data_clean['JobDescription'].dropna(how='all',inplace=True)"
   ]
  },
  {
   "cell_type": "code",
   "execution_count": 81,
   "metadata": {},
   "outputs": [],
   "source": [
    "Y=data_clean.groupby(['Year'])[['JobDescription']].count()"
   ]
  },
  {
   "cell_type": "code",
   "execution_count": 82,
   "metadata": {},
   "outputs": [
    {
     "data": {
      "text/html": [
       "<div>\n",
       "<style scoped>\n",
       "    .dataframe tbody tr th:only-of-type {\n",
       "        vertical-align: middle;\n",
       "    }\n",
       "\n",
       "    .dataframe tbody tr th {\n",
       "        vertical-align: top;\n",
       "    }\n",
       "\n",
       "    .dataframe thead th {\n",
       "        text-align: right;\n",
       "    }\n",
       "</style>\n",
       "<table border=\"1\" class=\"dataframe\">\n",
       "  <thead>\n",
       "    <tr style=\"text-align: right;\">\n",
       "      <th></th>\n",
       "      <th>JobDescription</th>\n",
       "    </tr>\n",
       "    <tr>\n",
       "      <th>Year</th>\n",
       "      <th></th>\n",
       "    </tr>\n",
       "  </thead>\n",
       "  <tbody>\n",
       "    <tr>\n",
       "      <th>2004</th>\n",
       "      <td>725</td>\n",
       "    </tr>\n",
       "    <tr>\n",
       "      <th>2005</th>\n",
       "      <td>791</td>\n",
       "    </tr>\n",
       "    <tr>\n",
       "      <th>2006</th>\n",
       "      <td>896</td>\n",
       "    </tr>\n",
       "    <tr>\n",
       "      <th>2007</th>\n",
       "      <td>1162</td>\n",
       "    </tr>\n",
       "    <tr>\n",
       "      <th>2008</th>\n",
       "      <td>1337</td>\n",
       "    </tr>\n",
       "  </tbody>\n",
       "</table>\n",
       "</div>"
      ],
      "text/plain": [
       "      JobDescription\n",
       "Year                \n",
       "2004             725\n",
       "2005             791\n",
       "2006             896\n",
       "2007            1162\n",
       "2008            1337"
      ]
     },
     "execution_count": 82,
     "metadata": {},
     "output_type": "execute_result"
    }
   ],
   "source": [
    "Y.head()"
   ]
  },
  {
   "cell_type": "code",
   "execution_count": 83,
   "metadata": {},
   "outputs": [
    {
     "data": {
      "image/png": "[encoded data removed]",
      "text/plain": [
       "<Figure size 1296x432 with 1 Axes>"
      ]
     },
     "metadata": {
      "needs_background": "light"
     },
     "output_type": "display_data"
    }
   ],
   "source": [
    "Y.plot.bar(figsize=(18,6))\n",
    "\n",
    "plt.show()"
   ]
  },
  {
   "cell_type": "markdown",
   "metadata": {},
   "source": [
    "## IT Job Classification"
   ]
  },
  {
   "cell_type": "code",
   "execution_count": 182,
   "metadata": {},
   "outputs": [],
   "source": [
    "data_1 = data_clean[['JobDescription','IT']]"
   ]
  },
  {
   "cell_type": "code",
   "execution_count": 183,
   "metadata": {},
   "outputs": [
    {
     "data": {
      "text/html": [
       "<div>\n",
       "<style scoped>\n",
       "    .dataframe tbody tr th:only-of-type {\n",
       "        vertical-align: middle;\n",
       "    }\n",
       "\n",
       "    .dataframe tbody tr th {\n",
       "        vertical-align: top;\n",
       "    }\n",
       "\n",
       "    .dataframe thead th {\n",
       "        text-align: right;\n",
       "    }\n",
       "</style>\n",
       "<table border=\"1\" class=\"dataframe\">\n",
       "  <thead>\n",
       "    <tr style=\"text-align: right;\">\n",
       "      <th></th>\n",
       "      <th>JobDescription</th>\n",
       "      <th>IT</th>\n",
       "    </tr>\n",
       "  </thead>\n",
       "  <tbody>\n",
       "    <tr>\n",
       "      <th>0</th>\n",
       "      <td>AMERIA Investment Consulting Company is seekin...</td>\n",
       "      <td>False</td>\n",
       "    </tr>\n",
       "    <tr>\n",
       "      <th>2</th>\n",
       "      <td>Public outreach and strengthening of a growing...</td>\n",
       "      <td>False</td>\n",
       "    </tr>\n",
       "    <tr>\n",
       "      <th>3</th>\n",
       "      <td>The LEAD (Local Enhancement and Development fo...</td>\n",
       "      <td>False</td>\n",
       "    </tr>\n",
       "    <tr>\n",
       "      <th>5</th>\n",
       "      <td>Saleswoman will sell menswear and accessories.</td>\n",
       "      <td>False</td>\n",
       "    </tr>\n",
       "    <tr>\n",
       "      <th>6</th>\n",
       "      <td>The Armenian Branch Office of the Open Society...</td>\n",
       "      <td>False</td>\n",
       "    </tr>\n",
       "    <tr>\n",
       "      <th>9</th>\n",
       "      <td>The incumbent assists in coordinating INL-fund...</td>\n",
       "      <td>False</td>\n",
       "    </tr>\n",
       "    <tr>\n",
       "      <th>12</th>\n",
       "      <td>ISC seeks an experienced and creative Chief of...</td>\n",
       "      <td>False</td>\n",
       "    </tr>\n",
       "    <tr>\n",
       "      <th>13</th>\n",
       "      <td>Food Security Regional Cooperation and Stabili...</td>\n",
       "      <td>False</td>\n",
       "    </tr>\n",
       "    <tr>\n",
       "      <th>17</th>\n",
       "      <td>The United Nations Development Programme in Ar...</td>\n",
       "      <td>False</td>\n",
       "    </tr>\n",
       "    <tr>\n",
       "      <th>18</th>\n",
       "      <td>Driver/ Logistics Assistant is a full-time nat...</td>\n",
       "      <td>False</td>\n",
       "    </tr>\n",
       "    <tr>\n",
       "      <th>19</th>\n",
       "      <td>The position of Graphic Designer (GD) demands ...</td>\n",
       "      <td>True</td>\n",
       "    </tr>\n",
       "    <tr>\n",
       "      <th>20</th>\n",
       "      <td>This is an excellent opportunity for the right...</td>\n",
       "      <td>False</td>\n",
       "    </tr>\n",
       "    <tr>\n",
       "      <th>22</th>\n",
       "      <td>The Marketing Advisor will lead the project in...</td>\n",
       "      <td>False</td>\n",
       "    </tr>\n",
       "    <tr>\n",
       "      <th>23</th>\n",
       "      <td>The candidate will work for the promotion and\\...</td>\n",
       "      <td>False</td>\n",
       "    </tr>\n",
       "    <tr>\n",
       "      <th>24</th>\n",
       "      <td>Media Diversity Institute (MDI) is looking for...</td>\n",
       "      <td>False</td>\n",
       "    </tr>\n",
       "    <tr>\n",
       "      <th>25</th>\n",
       "      <td>Project Harmony, an innovative, not-for-profit...</td>\n",
       "      <td>False</td>\n",
       "    </tr>\n",
       "    <tr>\n",
       "      <th>27</th>\n",
       "      <td>Media Diversity Institute (MDI) is looking for...</td>\n",
       "      <td>False</td>\n",
       "    </tr>\n",
       "    <tr>\n",
       "      <th>29</th>\n",
       "      <td>Senior Management Position in Micro-Finance \\n...</td>\n",
       "      <td>False</td>\n",
       "    </tr>\n",
       "    <tr>\n",
       "      <th>30</th>\n",
       "      <td>International Relief and Development (IRD) Arm...</td>\n",
       "      <td>False</td>\n",
       "    </tr>\n",
       "    <tr>\n",
       "      <th>31</th>\n",
       "      <td>Performs guard duties on a regular basis at ei...</td>\n",
       "      <td>False</td>\n",
       "    </tr>\n",
       "    <tr>\n",
       "      <th>32</th>\n",
       "      <td>The United Methodist Committee on Relief (UMCO...</td>\n",
       "      <td>False</td>\n",
       "    </tr>\n",
       "    <tr>\n",
       "      <th>33</th>\n",
       "      <td>Drives a passenger vehicle for U.S. Mission\\ne...</td>\n",
       "      <td>False</td>\n",
       "    </tr>\n",
       "    <tr>\n",
       "      <th>36</th>\n",
       "      <td>Synergy International Systems, Inc./Armenia is...</td>\n",
       "      <td>False</td>\n",
       "    </tr>\n",
       "    <tr>\n",
       "      <th>37</th>\n",
       "      <td>AMERIA Closed Joint Stock Company is seeking a...</td>\n",
       "      <td>False</td>\n",
       "    </tr>\n",
       "    <tr>\n",
       "      <th>40</th>\n",
       "      <td>Mercy Corps is currently looking for an experi...</td>\n",
       "      <td>False</td>\n",
       "    </tr>\n",
       "    <tr>\n",
       "      <th>41</th>\n",
       "      <td>We are currently seeking a Program Manager to ...</td>\n",
       "      <td>False</td>\n",
       "    </tr>\n",
       "    <tr>\n",
       "      <th>42</th>\n",
       "      <td>AMERIA Closed Joint Stock Company is seeking a...</td>\n",
       "      <td>False</td>\n",
       "    </tr>\n",
       "    <tr>\n",
       "      <th>43</th>\n",
       "      <td>DAI is seeking candidates for long-term reside...</td>\n",
       "      <td>False</td>\n",
       "    </tr>\n",
       "    <tr>\n",
       "      <th>44</th>\n",
       "      <td>Initiatives Inc. seeks a Quality Assurance/ He...</td>\n",
       "      <td>False</td>\n",
       "    </tr>\n",
       "    <tr>\n",
       "      <th>45</th>\n",
       "      <td>Military Institute is looking for a Teacher of...</td>\n",
       "      <td>False</td>\n",
       "    </tr>\n",
       "    <tr>\n",
       "      <th>...</th>\n",
       "      <td>...</td>\n",
       "      <td>...</td>\n",
       "    </tr>\n",
       "    <tr>\n",
       "      <th>18967</th>\n",
       "      <td>\"HayTech Solutions\" LLC is seeking an experien...</td>\n",
       "      <td>True</td>\n",
       "    </tr>\n",
       "    <tr>\n",
       "      <th>18968</th>\n",
       "      <td>Dasaran.am is looking for a Senior Web Develop...</td>\n",
       "      <td>True</td>\n",
       "    </tr>\n",
       "    <tr>\n",
       "      <th>18969</th>\n",
       "      <td>Baldi Retail is seeking a dedicated and enthus...</td>\n",
       "      <td>False</td>\n",
       "    </tr>\n",
       "    <tr>\n",
       "      <th>18970</th>\n",
       "      <td>BigBek is looking for a highly energetic and\\n...</td>\n",
       "      <td>False</td>\n",
       "    </tr>\n",
       "    <tr>\n",
       "      <th>18971</th>\n",
       "      <td>The incumbent will work under the direct super...</td>\n",
       "      <td>False</td>\n",
       "    </tr>\n",
       "    <tr>\n",
       "      <th>18972</th>\n",
       "      <td>Essential Solutions needs self-motivated and t...</td>\n",
       "      <td>True</td>\n",
       "    </tr>\n",
       "    <tr>\n",
       "      <th>18973</th>\n",
       "      <td>In this role the incumbent will be responsible...</td>\n",
       "      <td>True</td>\n",
       "    </tr>\n",
       "    <tr>\n",
       "      <th>18974</th>\n",
       "      <td>The CAD Librarian manages the creation of Sche...</td>\n",
       "      <td>False</td>\n",
       "    </tr>\n",
       "    <tr>\n",
       "      <th>18975</th>\n",
       "      <td>This is an opportunity to work closely with th...</td>\n",
       "      <td>False</td>\n",
       "    </tr>\n",
       "    <tr>\n",
       "      <th>18976</th>\n",
       "      <td>SAS Group is seeking a Senior Financial Specia...</td>\n",
       "      <td>False</td>\n",
       "    </tr>\n",
       "    <tr>\n",
       "      <th>18977</th>\n",
       "      <td>The organization is inviting qualified profess...</td>\n",
       "      <td>False</td>\n",
       "    </tr>\n",
       "    <tr>\n",
       "      <th>18978</th>\n",
       "      <td>Under the overall guidance of the TIA Project ...</td>\n",
       "      <td>True</td>\n",
       "    </tr>\n",
       "    <tr>\n",
       "      <th>18979</th>\n",
       "      <td>Care Building Services LLC is seeking a Projec...</td>\n",
       "      <td>False</td>\n",
       "    </tr>\n",
       "    <tr>\n",
       "      <th>18980</th>\n",
       "      <td>The Hardware Engineer will report to the Analo...</td>\n",
       "      <td>True</td>\n",
       "    </tr>\n",
       "    <tr>\n",
       "      <th>18981</th>\n",
       "      <td>The incumbent will participate in audit and ot...</td>\n",
       "      <td>False</td>\n",
       "    </tr>\n",
       "    <tr>\n",
       "      <th>18982</th>\n",
       "      <td>The incumbent will participate in audit and ot...</td>\n",
       "      <td>False</td>\n",
       "    </tr>\n",
       "    <tr>\n",
       "      <th>18983</th>\n",
       "      <td>Care Building Services LLC is seeking an engin...</td>\n",
       "      <td>False</td>\n",
       "    </tr>\n",
       "    <tr>\n",
       "      <th>18984</th>\n",
       "      <td>Care Building Services is seeking an Electrica...</td>\n",
       "      <td>False</td>\n",
       "    </tr>\n",
       "    <tr>\n",
       "      <th>18985</th>\n",
       "      <td>Under the guidance and supervision of the Head...</td>\n",
       "      <td>False</td>\n",
       "    </tr>\n",
       "    <tr>\n",
       "      <th>18986</th>\n",
       "      <td>Under the guidance and supervision of the Head...</td>\n",
       "      <td>False</td>\n",
       "    </tr>\n",
       "    <tr>\n",
       "      <th>18987</th>\n",
       "      <td>PicsArt is looking for a creative Junior Mobil...</td>\n",
       "      <td>True</td>\n",
       "    </tr>\n",
       "    <tr>\n",
       "      <th>18988</th>\n",
       "      <td>Berg Development is looking for a JavaScript\\n...</td>\n",
       "      <td>True</td>\n",
       "    </tr>\n",
       "    <tr>\n",
       "      <th>18989</th>\n",
       "      <td>Under the direct supervision of the Head of th...</td>\n",
       "      <td>False</td>\n",
       "    </tr>\n",
       "    <tr>\n",
       "      <th>18990</th>\n",
       "      <td>NASDAQ OMX Armenia is seeking an energetic Jav...</td>\n",
       "      <td>True</td>\n",
       "    </tr>\n",
       "    <tr>\n",
       "      <th>18991</th>\n",
       "      <td>NASDAQ OMX Armenia is seeking an energetic C/ ...</td>\n",
       "      <td>True</td>\n",
       "    </tr>\n",
       "    <tr>\n",
       "      <th>18992</th>\n",
       "      <td>The incumbent will develop software applicatio...</td>\n",
       "      <td>True</td>\n",
       "    </tr>\n",
       "    <tr>\n",
       "      <th>18995</th>\n",
       "      <td>The incumbent will be responsible for supporti...</td>\n",
       "      <td>False</td>\n",
       "    </tr>\n",
       "    <tr>\n",
       "      <th>18996</th>\n",
       "      <td>A tech startup of Technolinguistics based in N...</td>\n",
       "      <td>False</td>\n",
       "    </tr>\n",
       "    <tr>\n",
       "      <th>18999</th>\n",
       "      <td>San Lazzaro LLC is looking for a well-experien...</td>\n",
       "      <td>False</td>\n",
       "    </tr>\n",
       "    <tr>\n",
       "      <th>19000</th>\n",
       "      <td>\"Kamurj\" UCO CJSC is looking for a Lawyer in L...</td>\n",
       "      <td>False</td>\n",
       "    </tr>\n",
       "  </tbody>\n",
       "</table>\n",
       "<p>15109 rows × 2 columns</p>\n",
       "</div>"
      ],
      "text/plain": [
       "                                          JobDescription     IT\n",
       "0      AMERIA Investment Consulting Company is seekin...  False\n",
       "2      Public outreach and strengthening of a growing...  False\n",
       "3      The LEAD (Local Enhancement and Development fo...  False\n",
       "5         Saleswoman will sell menswear and accessories.  False\n",
       "6      The Armenian Branch Office of the Open Society...  False\n",
       "9      The incumbent assists in coordinating INL-fund...  False\n",
       "12     ISC seeks an experienced and creative Chief of...  False\n",
       "13     Food Security Regional Cooperation and Stabili...  False\n",
       "17     The United Nations Development Programme in Ar...  False\n",
       "18     Driver/ Logistics Assistant is a full-time nat...  False\n",
       "19     The position of Graphic Designer (GD) demands ...   True\n",
       "20     This is an excellent opportunity for the right...  False\n",
       "22     The Marketing Advisor will lead the project in...  False\n",
       "23     The candidate will work for the promotion and\\...  False\n",
       "24     Media Diversity Institute (MDI) is looking for...  False\n",
       "25     Project Harmony, an innovative, not-for-profit...  False\n",
       "27     Media Diversity Institute (MDI) is looking for...  False\n",
       "29     Senior Management Position in Micro-Finance \\n...  False\n",
       "30     International Relief and Development (IRD) Arm...  False\n",
       "31     Performs guard duties on a regular basis at ei...  False\n",
       "32     The United Methodist Committee on Relief (UMCO...  False\n",
       "33     Drives a passenger vehicle for U.S. Mission\\ne...  False\n",
       "36     Synergy International Systems, Inc./Armenia is...  False\n",
       "37     AMERIA Closed Joint Stock Company is seeking a...  False\n",
       "40     Mercy Corps is currently looking for an experi...  False\n",
       "41     We are currently seeking a Program Manager to ...  False\n",
       "42     AMERIA Closed Joint Stock Company is seeking a...  False\n",
       "43     DAI is seeking candidates for long-term reside...  False\n",
       "44     Initiatives Inc. seeks a Quality Assurance/ He...  False\n",
       "45     Military Institute is looking for a Teacher of...  False\n",
       "...                                                  ...    ...\n",
       "18967  \"HayTech Solutions\" LLC is seeking an experien...   True\n",
       "18968  Dasaran.am is looking for a Senior Web Develop...   True\n",
       "18969  Baldi Retail is seeking a dedicated and enthus...  False\n",
       "18970  BigBek is looking for a highly energetic and\\n...  False\n",
       "18971  The incumbent will work under the direct super...  False\n",
       "18972  Essential Solutions needs self-motivated and t...   True\n",
       "18973  In this role the incumbent will be responsible...   True\n",
       "18974  The CAD Librarian manages the creation of Sche...  False\n",
       "18975  This is an opportunity to work closely with th...  False\n",
       "18976  SAS Group is seeking a Senior Financial Specia...  False\n",
       "18977  The organization is inviting qualified profess...  False\n",
       "18978  Under the overall guidance of the TIA Project ...   True\n",
       "18979  Care Building Services LLC is seeking a Projec...  False\n",
       "18980  The Hardware Engineer will report to the Analo...   True\n",
       "18981  The incumbent will participate in audit and ot...  False\n",
       "18982  The incumbent will participate in audit and ot...  False\n",
       "18983  Care Building Services LLC is seeking an engin...  False\n",
       "18984  Care Building Services is seeking an Electrica...  False\n",
       "18985  Under the guidance and supervision of the Head...  False\n",
       "18986  Under the guidance and supervision of the Head...  False\n",
       "18987  PicsArt is looking for a creative Junior Mobil...   True\n",
       "18988  Berg Development is looking for a JavaScript\\n...   True\n",
       "18989  Under the direct supervision of the Head of th...  False\n",
       "18990  NASDAQ OMX Armenia is seeking an energetic Jav...   True\n",
       "18991  NASDAQ OMX Armenia is seeking an energetic C/ ...   True\n",
       "18992  The incumbent will develop software applicatio...   True\n",
       "18995  The incumbent will be responsible for supporti...  False\n",
       "18996  A tech startup of Technolinguistics based in N...  False\n",
       "18999  San Lazzaro LLC is looking for a well-experien...  False\n",
       "19000  \"Kamurj\" UCO CJSC is looking for a Lawyer in L...  False\n",
       "\n",
       "[15109 rows x 2 columns]"
      ]
     },
     "execution_count": 183,
     "metadata": {},
     "output_type": "execute_result"
    }
   ],
   "source": [
    "data_1.dropna(thresh=2)"
   ]
  },
  {
   "cell_type": "code",
   "execution_count": 184,
   "metadata": {},
   "outputs": [
    {
     "name": "stdout",
     "output_type": "stream",
     "text": [
      "0        0\n",
      "1        0\n",
      "2        0\n",
      "3        0\n",
      "4        1\n",
      "5        0\n",
      "6        0\n",
      "7        0\n",
      "8        0\n",
      "9        0\n",
      "10       0\n",
      "11       0\n",
      "12       0\n",
      "13       0\n",
      "14       0\n",
      "15       1\n",
      "16       0\n",
      "17       0\n",
      "18       0\n",
      "19       1\n",
      "20       0\n",
      "21       0\n",
      "22       0\n",
      "23       0\n",
      "24       0\n",
      "25       0\n",
      "26       0\n",
      "27       0\n",
      "28       0\n",
      "29       0\n",
      "        ..\n",
      "18971    0\n",
      "18972    1\n",
      "18973    1\n",
      "18974    0\n",
      "18975    0\n",
      "18976    0\n",
      "18977    0\n",
      "18978    1\n",
      "18979    0\n",
      "18980    1\n",
      "18981    0\n",
      "18982    0\n",
      "18983    0\n",
      "18984    0\n",
      "18985    0\n",
      "18986    0\n",
      "18987    1\n",
      "18988    1\n",
      "18989    0\n",
      "18990    1\n",
      "18991    1\n",
      "18992    1\n",
      "18993    0\n",
      "18994    0\n",
      "18995    0\n",
      "18996    0\n",
      "18997    0\n",
      "18998    0\n",
      "18999    0\n",
      "19000    0\n",
      "Name: IT, Length: 19001, dtype: int64\n"
     ]
    },
    {
     "name": "stderr",
     "output_type": "stream",
     "text": [
      "D:\\DSP\\lib\\site-packages\\ipykernel_launcher.py:5: SettingWithCopyWarning: \n",
      "A value is trying to be set on a copy of a slice from a DataFrame.\n",
      "Try using .loc[row_indexer,col_indexer] = value instead\n",
      "\n",
      "See the caveats in the documentation: http://pandas.pydata.org/pandas-docs/stable/indexing.html#indexing-view-versus-copy\n",
      "  \"\"\"\n"
     ]
    }
   ],
   "source": [
    "from sklearn import preprocessing\n",
    "lab_enc = preprocessing.LabelEncoder()\n",
    "lab_enc.fit(data_1['IT'])\n",
    "variable = lab_enc.transform(data_1['IT'])\n",
    "data_1['IT'] = variable\n",
    "print(data_1['IT'])"
   ]
  },
  {
   "cell_type": "code",
   "execution_count": 185,
   "metadata": {},
   "outputs": [
    {
     "data": {
      "text/plain": [
       "0    80.216831\n",
       "1    19.783169\n",
       "Name: IT, dtype: float64"
      ]
     },
     "execution_count": 185,
     "metadata": {},
     "output_type": "execute_result"
    }
   ],
   "source": [
    "data_1.IT.value_counts()/sum(data_1.IT.value_counts()) * 100"
   ]
  },
  {
   "cell_type": "code",
   "execution_count": 186,
   "metadata": {},
   "outputs": [],
   "source": [
    "# define X and y\n",
    "X = data_1.JobDescription\n",
    "y = data_1.IT"
   ]
  },
  {
   "cell_type": "code",
   "execution_count": 187,
   "metadata": {},
   "outputs": [
    {
     "name": "stdout",
     "output_type": "stream",
     "text": [
      "(15200,)\n",
      "(3801,)\n",
      "(3801,)\n",
      "(15200,)\n"
     ]
    }
   ],
   "source": [
    "# split into training and testing sets\n",
    "from sklearn.model_selection import train_test_split\n",
    "X_train, X_test, y_train, y_test = train_test_split(X, y, test_size=0.2, random_state=1)\n",
    "print(X_train.shape)\n",
    "print(X_test.shape)\n",
    "print(y_test.shape)\n",
    "print(y_train.shape)"
   ]
  },
  {
   "cell_type": "code",
   "execution_count": 188,
   "metadata": {},
   "outputs": [
    {
     "data": {
      "text/plain": [
       "535                                                    NaN\n",
       "5792     The main responsibility of the Executive Secre...\n",
       "4403                                                   NaN\n",
       "14516                                                  NaN\n",
       "3095     The Internal Auditor will report to the Head o...\n",
       "Name: JobDescription, dtype: object"
      ]
     },
     "execution_count": 188,
     "metadata": {},
     "output_type": "execute_result"
    }
   ],
   "source": [
    "X_train.head()"
   ]
  },
  {
   "cell_type": "code",
   "execution_count": 189,
   "metadata": {},
   "outputs": [],
   "source": [
    "v = TfidfVectorizer(decode_error='replace', encoding='utf-8')"
   ]
  },
  {
   "cell_type": "code",
   "execution_count": 190,
   "metadata": {},
   "outputs": [],
   "source": [
    "x = v.fit_transform((X_train).values.astype('U'))"
   ]
  },
  {
   "cell_type": "markdown",
   "metadata": {},
   "source": [
    "### Vectorizing Description data"
   ]
  },
  {
   "cell_type": "code",
   "execution_count": 191,
   "metadata": {},
   "outputs": [],
   "source": [
    "from wordcloud import WordCloud ,STOPWORDS"
   ]
  },
  {
   "cell_type": "code",
   "execution_count": 192,
   "metadata": {},
   "outputs": [],
   "source": [
    "import re\n",
    "def pre_process_text(x):\n",
    "    x = x.strip()\n",
    "    x = re.sub(r' +', ' ', x)\n",
    "    x = re.sub(r\"[-()\\\"#/@;:{}`+=~|.!?,'0-9]\", \"\", x)\n",
    "    return(x)"
   ]
  },
  {
   "cell_type": "code",
   "execution_count": 193,
   "metadata": {},
   "outputs": [],
   "source": [
    "from sklearn.feature_extraction.text import CountVectorizer, TfidfVectorizer"
   ]
  },
  {
   "cell_type": "code",
   "execution_count": 194,
   "metadata": {},
   "outputs": [],
   "source": [
    "# instantiate the vectorizer\n",
    "#vect = TfidfVectorizer()\n",
    "vect = TfidfVectorizer(analyzer='word',lowercase=True, preprocessor=pre_process_text, ngram_range=(1,2), \n",
    "                       max_features=1000, max_df=1.0, min_df=10, stop_words=STOPWORDS)"
   ]
  },
  {
   "cell_type": "code",
   "execution_count": 198,
   "metadata": {},
   "outputs": [],
   "source": [
    "# learn training data vocabulary, then create document-term matrix\n",
    "X_train_dtm = vect.fit_transform((X_train).values.astype('U'))"
   ]
  },
  {
   "cell_type": "code",
   "execution_count": 199,
   "metadata": {},
   "outputs": [
    {
     "data": {
      "text/plain": [
       "<15200x1000 sparse matrix of type '<class 'numpy.float64'>'\n",
       "\twith 232240 stored elements in Compressed Sparse Row format>"
      ]
     },
     "execution_count": 199,
     "metadata": {},
     "output_type": "execute_result"
    }
   ],
   "source": [
    "\n",
    "\n",
    "X_train_dtm"
   ]
  },
  {
   "cell_type": "markdown",
   "metadata": {},
   "source": [
    "## Examining the tokens  and  their counts"
   ]
  },
  {
   "cell_type": "code",
   "execution_count": 200,
   "metadata": {},
   "outputs": [],
   "source": [
    "# store token names\n",
    "X_train_tokens = vect.get_feature_names()"
   ]
  },
  {
   "cell_type": "code",
   "execution_count": 201,
   "metadata": {},
   "outputs": [],
   "source": [
    "X_train_tokens = vect.get_feature_names()"
   ]
  },
  {
   "cell_type": "code",
   "execution_count": 202,
   "metadata": {},
   "outputs": [
    {
     "name": "stdout",
     "output_type": "stream",
     "text": [
      "['ADP', 'AM', 'Accountant', 'Accountant will', 'Accounting', 'Administration', 'Administrative', 'Administrative Assistant', 'Administrator', 'Advisor', 'Agency', 'Agent', 'Analyst', 'Analyst will', 'Area', 'Area Development', 'Armenia', 'Armenia CJSC', 'Armenia The', 'Armenia looking', 'Armenia seeking', 'Armenian', 'Armenias', 'As', 'Assistant', 'Assistant will', 'Assurance', 'AtTask', 'Audit', 'Bank', 'Bank Armenia', 'Banks', 'Board', 'Branch', 'Business', 'CARD', 'CEO', 'CJSC', 'CJSC looking', 'CJSC seeking', 'Care', 'Cascade', 'Caucasus', 'Center', 'Chief', 'Chief Accountant', 'Chief Party', 'Client', 'Commercial', 'Communications']\n"
     ]
    }
   ],
   "source": [
    "print(X_train_tokens[:50])"
   ]
  },
  {
   "cell_type": "code",
   "execution_count": 203,
   "metadata": {},
   "outputs": [
    {
     "data": {
      "text/plain": [
       "array([[0., 0., 0., ..., 0., 0., 0.],\n",
       "       [0., 0., 0., ..., 0., 0., 0.],\n",
       "       [0., 0., 0., ..., 0., 0., 0.],\n",
       "       ...,\n",
       "       [0., 0., 0., ..., 0., 0., 0.],\n",
       "       [0., 0., 0., ..., 0., 0., 0.],\n",
       "       [0., 0., 0., ..., 0., 0., 0.]])"
      ]
     },
     "execution_count": 203,
     "metadata": {},
     "output_type": "execute_result"
    }
   ],
   "source": [
    "# view X_train_dtm as a dense matrix\n",
    "X_train_dtm.toarray()"
   ]
  },
  {
   "cell_type": "code",
   "execution_count": 204,
   "metadata": {},
   "outputs": [],
   "source": [
    "import pandas as pd\n",
    "dtm = pd.DataFrame(X_train_dtm.toarray(), columns=vect.get_feature_names())"
   ]
  },
  {
   "cell_type": "code",
   "execution_count": 205,
   "metadata": {},
   "outputs": [
    {
     "data": {
      "text/html": [
       "<div>\n",
       "<style scoped>\n",
       "    .dataframe tbody tr th:only-of-type {\n",
       "        vertical-align: middle;\n",
       "    }\n",
       "\n",
       "    .dataframe tbody tr th {\n",
       "        vertical-align: top;\n",
       "    }\n",
       "\n",
       "    .dataframe thead th {\n",
       "        text-align: right;\n",
       "    }\n",
       "</style>\n",
       "<table border=\"1\" class=\"dataframe\">\n",
       "  <thead>\n",
       "    <tr style=\"text-align: right;\">\n",
       "      <th></th>\n",
       "      <th>ADP</th>\n",
       "      <th>AM</th>\n",
       "      <th>Accountant</th>\n",
       "      <th>Accountant will</th>\n",
       "      <th>Accounting</th>\n",
       "      <th>Administration</th>\n",
       "      <th>Administrative</th>\n",
       "      <th>Administrative Assistant</th>\n",
       "      <th>Administrator</th>\n",
       "      <th>Advisor</th>\n",
       "      <th>...</th>\n",
       "      <th>will working</th>\n",
       "      <th>willing</th>\n",
       "      <th>within</th>\n",
       "      <th>work</th>\n",
       "      <th>work closely</th>\n",
       "      <th>work direct</th>\n",
       "      <th>working</th>\n",
       "      <th>works</th>\n",
       "      <th>writing</th>\n",
       "      <th>year</th>\n",
       "    </tr>\n",
       "  </thead>\n",
       "  <tbody>\n",
       "    <tr>\n",
       "      <th>0</th>\n",
       "      <td>0.0</td>\n",
       "      <td>0.0</td>\n",
       "      <td>0.0</td>\n",
       "      <td>0.0</td>\n",
       "      <td>0.0</td>\n",
       "      <td>0.0</td>\n",
       "      <td>0.0</td>\n",
       "      <td>0.0</td>\n",
       "      <td>0.0</td>\n",
       "      <td>0.0</td>\n",
       "      <td>...</td>\n",
       "      <td>0.0</td>\n",
       "      <td>0.0</td>\n",
       "      <td>0.0</td>\n",
       "      <td>0.0</td>\n",
       "      <td>0.0</td>\n",
       "      <td>0.0</td>\n",
       "      <td>0.0</td>\n",
       "      <td>0.0</td>\n",
       "      <td>0.0</td>\n",
       "      <td>0.0</td>\n",
       "    </tr>\n",
       "    <tr>\n",
       "      <th>1</th>\n",
       "      <td>0.0</td>\n",
       "      <td>0.0</td>\n",
       "      <td>0.0</td>\n",
       "      <td>0.0</td>\n",
       "      <td>0.0</td>\n",
       "      <td>0.0</td>\n",
       "      <td>0.0</td>\n",
       "      <td>0.0</td>\n",
       "      <td>0.0</td>\n",
       "      <td>0.0</td>\n",
       "      <td>...</td>\n",
       "      <td>0.0</td>\n",
       "      <td>0.0</td>\n",
       "      <td>0.0</td>\n",
       "      <td>0.0</td>\n",
       "      <td>0.0</td>\n",
       "      <td>0.0</td>\n",
       "      <td>0.0</td>\n",
       "      <td>0.0</td>\n",
       "      <td>0.0</td>\n",
       "      <td>0.0</td>\n",
       "    </tr>\n",
       "    <tr>\n",
       "      <th>2</th>\n",
       "      <td>0.0</td>\n",
       "      <td>0.0</td>\n",
       "      <td>0.0</td>\n",
       "      <td>0.0</td>\n",
       "      <td>0.0</td>\n",
       "      <td>0.0</td>\n",
       "      <td>0.0</td>\n",
       "      <td>0.0</td>\n",
       "      <td>0.0</td>\n",
       "      <td>0.0</td>\n",
       "      <td>...</td>\n",
       "      <td>0.0</td>\n",
       "      <td>0.0</td>\n",
       "      <td>0.0</td>\n",
       "      <td>0.0</td>\n",
       "      <td>0.0</td>\n",
       "      <td>0.0</td>\n",
       "      <td>0.0</td>\n",
       "      <td>0.0</td>\n",
       "      <td>0.0</td>\n",
       "      <td>0.0</td>\n",
       "    </tr>\n",
       "    <tr>\n",
       "      <th>3</th>\n",
       "      <td>0.0</td>\n",
       "      <td>0.0</td>\n",
       "      <td>0.0</td>\n",
       "      <td>0.0</td>\n",
       "      <td>0.0</td>\n",
       "      <td>0.0</td>\n",
       "      <td>0.0</td>\n",
       "      <td>0.0</td>\n",
       "      <td>0.0</td>\n",
       "      <td>0.0</td>\n",
       "      <td>...</td>\n",
       "      <td>0.0</td>\n",
       "      <td>0.0</td>\n",
       "      <td>0.0</td>\n",
       "      <td>0.0</td>\n",
       "      <td>0.0</td>\n",
       "      <td>0.0</td>\n",
       "      <td>0.0</td>\n",
       "      <td>0.0</td>\n",
       "      <td>0.0</td>\n",
       "      <td>0.0</td>\n",
       "    </tr>\n",
       "    <tr>\n",
       "      <th>4</th>\n",
       "      <td>0.0</td>\n",
       "      <td>0.0</td>\n",
       "      <td>0.0</td>\n",
       "      <td>0.0</td>\n",
       "      <td>0.0</td>\n",
       "      <td>0.0</td>\n",
       "      <td>0.0</td>\n",
       "      <td>0.0</td>\n",
       "      <td>0.0</td>\n",
       "      <td>0.0</td>\n",
       "      <td>...</td>\n",
       "      <td>0.0</td>\n",
       "      <td>0.0</td>\n",
       "      <td>0.0</td>\n",
       "      <td>0.0</td>\n",
       "      <td>0.0</td>\n",
       "      <td>0.0</td>\n",
       "      <td>0.0</td>\n",
       "      <td>0.0</td>\n",
       "      <td>0.0</td>\n",
       "      <td>0.0</td>\n",
       "    </tr>\n",
       "  </tbody>\n",
       "</table>\n",
       "<p>5 rows × 1000 columns</p>\n",
       "</div>"
      ],
      "text/plain": [
       "   ADP   AM  Accountant  Accountant will  Accounting  Administration  \\\n",
       "0  0.0  0.0         0.0              0.0         0.0             0.0   \n",
       "1  0.0  0.0         0.0              0.0         0.0             0.0   \n",
       "2  0.0  0.0         0.0              0.0         0.0             0.0   \n",
       "3  0.0  0.0         0.0              0.0         0.0             0.0   \n",
       "4  0.0  0.0         0.0              0.0         0.0             0.0   \n",
       "\n",
       "   Administrative  Administrative Assistant  Administrator  Advisor  ...  \\\n",
       "0             0.0                       0.0            0.0      0.0  ...   \n",
       "1             0.0                       0.0            0.0      0.0  ...   \n",
       "2             0.0                       0.0            0.0      0.0  ...   \n",
       "3             0.0                       0.0            0.0      0.0  ...   \n",
       "4             0.0                       0.0            0.0      0.0  ...   \n",
       "\n",
       "   will working  willing  within  work  work closely  work direct  working  \\\n",
       "0           0.0      0.0     0.0   0.0           0.0          0.0      0.0   \n",
       "1           0.0      0.0     0.0   0.0           0.0          0.0      0.0   \n",
       "2           0.0      0.0     0.0   0.0           0.0          0.0      0.0   \n",
       "3           0.0      0.0     0.0   0.0           0.0          0.0      0.0   \n",
       "4           0.0      0.0     0.0   0.0           0.0          0.0      0.0   \n",
       "\n",
       "   works  writing  year  \n",
       "0    0.0      0.0   0.0  \n",
       "1    0.0      0.0   0.0  \n",
       "2    0.0      0.0   0.0  \n",
       "3    0.0      0.0   0.0  \n",
       "4    0.0      0.0   0.0  \n",
       "\n",
       "[5 rows x 1000 columns]"
      ]
     },
     "execution_count": 205,
     "metadata": {},
     "output_type": "execute_result"
    }
   ],
   "source": [
    "dtm.head()"
   ]
  },
  {
   "cell_type": "markdown",
   "metadata": {},
   "source": [
    "###  Building a Naive Bayes model\n",
    "\n",
    "We will use [Multinomial Naive Bayes](http://scikit-learn.org/stable/modules/generated/sklearn.naive_bayes.MultinomialNB.html):\n",
    "\n",
    "> The multinomial Naive Bayes classifier is suitable for classification with **discrete features** (e.g., word counts for text classification). The multinomial distribution normally requires integer feature counts. However, in practice, fractional counts such as tf-idf may also work."
   ]
  },
  {
   "cell_type": "code",
   "execution_count": 215,
   "metadata": {},
   "outputs": [
    {
     "data": {
      "text/plain": [
       "MultinomialNB(alpha=1.0, class_prior=None, fit_prior=True)"
      ]
     },
     "execution_count": 215,
     "metadata": {},
     "output_type": "execute_result"
    }
   ],
   "source": [
    "# train a Naive Bayes model using X_train_dtm\n",
    "from sklearn.naive_bayes import MultinomialNB, GaussianNB\n",
    "nb = MultinomialNB()\n",
    "#nb = GaussianNB()\n",
    "nb.fit(dtm, y_train)"
   ]
  },
  {
   "cell_type": "code",
   "execution_count": 216,
   "metadata": {},
   "outputs": [],
   "source": [
    "vect = TfidfVectorizer(decode_error='replace', encoding='utf-8')\n",
    "X_test_dtm = vect.fit_transform((X_test).values.astype('U'))"
   ]
  },
  {
   "cell_type": "code",
   "execution_count": 217,
   "metadata": {},
   "outputs": [
    {
     "data": {
      "text/plain": [
       "<3801x6665 sparse matrix of type '<class 'numpy.float64'>'\n",
       "\twith 90868 stored elements in Compressed Sparse Row format>"
      ]
     },
     "execution_count": 217,
     "metadata": {},
     "output_type": "execute_result"
    }
   ],
   "source": [
    "X_test_dtm"
   ]
  },
  {
   "cell_type": "code",
   "execution_count": 218,
   "metadata": {},
   "outputs": [
    {
     "ename": "ValueError",
     "evalue": "matmul: Input operand 1 has a mismatch in its core dimension 0, with gufunc signature (n?,k),(k,m?)->(n?,m?) (size 1000 is different from 6665)",
     "output_type": "error",
     "traceback": [
      "\u001b[1;31m---------------------------------------------------------------------------\u001b[0m",
      "\u001b[1;31mValueError\u001b[0m                                Traceback (most recent call last)",
      "\u001b[1;32m<ipython-input-218-d1e34672bb90>\u001b[0m in \u001b[0;36m<module>\u001b[1;34m\u001b[0m\n\u001b[0;32m      1\u001b[0m \u001b[1;31m# make class predictions for X_test_dtm\u001b[0m\u001b[1;33m\u001b[0m\u001b[1;33m\u001b[0m\u001b[1;33m\u001b[0m\u001b[0m\n\u001b[0;32m      2\u001b[0m \u001b[0my_pred_class_train\u001b[0m \u001b[1;33m=\u001b[0m \u001b[0mnb\u001b[0m\u001b[1;33m.\u001b[0m\u001b[0mpredict\u001b[0m\u001b[1;33m(\u001b[0m\u001b[0mdtm\u001b[0m\u001b[1;33m)\u001b[0m\u001b[1;33m\u001b[0m\u001b[1;33m\u001b[0m\u001b[0m\n\u001b[1;32m----> 3\u001b[1;33m \u001b[0my_pred_class\u001b[0m \u001b[1;33m=\u001b[0m \u001b[0mnb\u001b[0m\u001b[1;33m.\u001b[0m\u001b[0mpredict\u001b[0m\u001b[1;33m(\u001b[0m\u001b[0mX_test_dtm\u001b[0m\u001b[1;33m.\u001b[0m\u001b[0mtoarray\u001b[0m\u001b[1;33m(\u001b[0m\u001b[1;33m)\u001b[0m\u001b[1;33m)\u001b[0m\u001b[1;33m\u001b[0m\u001b[1;33m\u001b[0m\u001b[0m\n\u001b[0m",
      "\u001b[1;32mD:\\DSP\\lib\\site-packages\\sklearn\\naive_bayes.py\u001b[0m in \u001b[0;36mpredict\u001b[1;34m(self, X)\u001b[0m\n\u001b[0;32m     73\u001b[0m         \u001b[0mcheck_is_fitted\u001b[0m\u001b[1;33m(\u001b[0m\u001b[0mself\u001b[0m\u001b[1;33m)\u001b[0m\u001b[1;33m\u001b[0m\u001b[1;33m\u001b[0m\u001b[0m\n\u001b[0;32m     74\u001b[0m         \u001b[0mX\u001b[0m \u001b[1;33m=\u001b[0m \u001b[0mself\u001b[0m\u001b[1;33m.\u001b[0m\u001b[0m_check_X\u001b[0m\u001b[1;33m(\u001b[0m\u001b[0mX\u001b[0m\u001b[1;33m)\u001b[0m\u001b[1;33m\u001b[0m\u001b[1;33m\u001b[0m\u001b[0m\n\u001b[1;32m---> 75\u001b[1;33m         \u001b[0mjll\u001b[0m \u001b[1;33m=\u001b[0m \u001b[0mself\u001b[0m\u001b[1;33m.\u001b[0m\u001b[0m_joint_log_likelihood\u001b[0m\u001b[1;33m(\u001b[0m\u001b[0mX\u001b[0m\u001b[1;33m)\u001b[0m\u001b[1;33m\u001b[0m\u001b[1;33m\u001b[0m\u001b[0m\n\u001b[0m\u001b[0;32m     76\u001b[0m         \u001b[1;32mreturn\u001b[0m \u001b[0mself\u001b[0m\u001b[1;33m.\u001b[0m\u001b[0mclasses_\u001b[0m\u001b[1;33m[\u001b[0m\u001b[0mnp\u001b[0m\u001b[1;33m.\u001b[0m\u001b[0margmax\u001b[0m\u001b[1;33m(\u001b[0m\u001b[0mjll\u001b[0m\u001b[1;33m,\u001b[0m \u001b[0maxis\u001b[0m\u001b[1;33m=\u001b[0m\u001b[1;36m1\u001b[0m\u001b[1;33m)\u001b[0m\u001b[1;33m]\u001b[0m\u001b[1;33m\u001b[0m\u001b[1;33m\u001b[0m\u001b[0m\n\u001b[0;32m     77\u001b[0m \u001b[1;33m\u001b[0m\u001b[0m\n",
      "\u001b[1;32mD:\\DSP\\lib\\site-packages\\sklearn\\naive_bayes.py\u001b[0m in \u001b[0;36m_joint_log_likelihood\u001b[1;34m(self, X)\u001b[0m\n\u001b[0;32m    772\u001b[0m     \u001b[1;32mdef\u001b[0m \u001b[0m_joint_log_likelihood\u001b[0m\u001b[1;33m(\u001b[0m\u001b[0mself\u001b[0m\u001b[1;33m,\u001b[0m \u001b[0mX\u001b[0m\u001b[1;33m)\u001b[0m\u001b[1;33m:\u001b[0m\u001b[1;33m\u001b[0m\u001b[1;33m\u001b[0m\u001b[0m\n\u001b[0;32m    773\u001b[0m         \u001b[1;34m\"\"\"Calculate the posterior log probability of the samples X\"\"\"\u001b[0m\u001b[1;33m\u001b[0m\u001b[1;33m\u001b[0m\u001b[0m\n\u001b[1;32m--> 774\u001b[1;33m         return (safe_sparse_dot(X, self.feature_log_prob_.T) +\n\u001b[0m\u001b[0;32m    775\u001b[0m                 self.class_log_prior_)\n\u001b[0;32m    776\u001b[0m \u001b[1;33m\u001b[0m\u001b[0m\n",
      "\u001b[1;32mD:\\DSP\\lib\\site-packages\\sklearn\\utils\\extmath.py\u001b[0m in \u001b[0;36msafe_sparse_dot\u001b[1;34m(a, b, dense_output)\u001b[0m\n\u001b[0;32m    149\u001b[0m             \u001b[0mret\u001b[0m \u001b[1;33m=\u001b[0m \u001b[0mnp\u001b[0m\u001b[1;33m.\u001b[0m\u001b[0mdot\u001b[0m\u001b[1;33m(\u001b[0m\u001b[0ma\u001b[0m\u001b[1;33m,\u001b[0m \u001b[0mb\u001b[0m\u001b[1;33m)\u001b[0m\u001b[1;33m\u001b[0m\u001b[1;33m\u001b[0m\u001b[0m\n\u001b[0;32m    150\u001b[0m     \u001b[1;32melse\u001b[0m\u001b[1;33m:\u001b[0m\u001b[1;33m\u001b[0m\u001b[1;33m\u001b[0m\u001b[0m\n\u001b[1;32m--> 151\u001b[1;33m         \u001b[0mret\u001b[0m \u001b[1;33m=\u001b[0m \u001b[0ma\u001b[0m \u001b[1;33m@\u001b[0m \u001b[0mb\u001b[0m\u001b[1;33m\u001b[0m\u001b[1;33m\u001b[0m\u001b[0m\n\u001b[0m\u001b[0;32m    152\u001b[0m \u001b[1;33m\u001b[0m\u001b[0m\n\u001b[0;32m    153\u001b[0m     if (sparse.issparse(a) and sparse.issparse(b)\n",
      "\u001b[1;31mValueError\u001b[0m: matmul: Input operand 1 has a mismatch in its core dimension 0, with gufunc signature (n?,k),(k,m?)->(n?,m?) (size 1000 is different from 6665)"
     ]
    }
   ],
   "source": [
    "# make class predictions for X_test_dtm\n",
    "y_pred_class_train = nb.predict(dtm)\n",
    "y_pred_class = nb.predict(X_test_dtm.toarray())"
   ]
  },
  {
   "cell_type": "code",
   "execution_count": null,
   "metadata": {},
   "outputs": [],
   "source": []
  }
 ],
 "metadata": {
  "kernelspec": {
   "display_name": "Python 3",
   "language": "python",
   "name": "python3"
  },
  "language_info": {
   "codemirror_mode": {
    "name": "ipython",
    "version": 3
   },
   "file_extension": ".py",
   "mimetype": "text/x-python",
   "name": "python",
   "nbconvert_exporter": "python",
   "pygments_lexer": "ipython3",
   "version": "3.7.3"
  }
 },
 "nbformat": 4,
 "nbformat_minor": 2
}
